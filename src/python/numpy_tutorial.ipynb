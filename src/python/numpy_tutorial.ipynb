{
  "nbformat": 4,
  "nbformat_minor": 0,
  "metadata": {
    "colab": {
      "name": "numpy_tutorial.ipynb",
      "provenance": [],
      "collapsed_sections": []
    },
    "kernelspec": {
      "name": "python3",
      "display_name": "Python 3"
    },
    "language_info": {
      "name": "python"
    }
  },
  "cells": [
    {
      "cell_type": "code",
      "metadata": {
        "id": "MmV2B6gT9CW0"
      },
      "source": [
        "import numpy as np"
      ],
      "execution_count": null,
      "outputs": []
    },
    {
      "cell_type": "code",
      "metadata": {
        "colab": {
          "base_uri": "https://localhost:8080/"
        },
        "id": "WS2LCd__9poE",
        "outputId": "1ee3e438-19b6-460d-b587-48fdae3523d6"
      },
      "source": [
        "#How to create an empty and a full NumPy array?\n",
        "empty_arr = np.array([])\n",
        "full_arr = np.array([[1, 2, 3], [4, 5, 6], [7, 8, 9]])\n",
        "\n",
        "print(empty_arr)\n",
        "print(full_arr)"
      ],
      "execution_count": null,
      "outputs": [
        {
          "output_type": "stream",
          "text": [
            "[]\n",
            "[[1 2 3]\n",
            " [4 5 6]\n",
            " [7 8 9]]\n"
          ],
          "name": "stdout"
        }
      ]
    },
    {
      "cell_type": "code",
      "metadata": {
        "colab": {
          "base_uri": "https://localhost:8080/"
        },
        "id": "tkmwDbqU9qSn",
        "outputId": "8cf54da0-e8b7-40ca-e6e2-8d48d1430492"
      },
      "source": [
        "#Create a Numpy array filled with all zeros\n",
        "arr = np.zeros([3, 3], dtype = int)\n",
        "print(arr)"
      ],
      "execution_count": null,
      "outputs": [
        {
          "output_type": "stream",
          "text": [
            "[[0 0 0]\n",
            " [0 0 0]\n",
            " [0 0 0]]\n"
          ],
          "name": "stdout"
        }
      ]
    },
    {
      "cell_type": "code",
      "metadata": {
        "colab": {
          "base_uri": "https://localhost:8080/"
        },
        "id": "C4n9y4bu9qXa",
        "outputId": "508a2180-2c2e-4716-88c7-315ebe1a68b1"
      },
      "source": [
        "#Create a Numpy array filled with all ones\n",
        "arr = np.ones([3, 3], dtype = int)\n",
        "print(arr)"
      ],
      "execution_count": null,
      "outputs": [
        {
          "output_type": "stream",
          "text": [
            "[[1 1 1]\n",
            " [1 1 1]\n",
            " [1 1 1]]\n"
          ],
          "name": "stdout"
        }
      ]
    },
    {
      "cell_type": "code",
      "metadata": {
        "colab": {
          "base_uri": "https://localhost:8080/"
        },
        "id": "6x1ZRlJk9q-O",
        "outputId": "b6b7ddae-40be-41c0-e85b-b7b06a42b0cf"
      },
      "source": [
        "#Check whether a Numpy array contains a specified row\n",
        "arr = np.ones([3, 3], dtype = int) # 3x3 array filled with ones \n",
        "row_1 = [1, 1, 1]\n",
        "row_2 = [1, 1, 0]\n",
        "\n",
        "print(arr)\n",
        "print(row_1 in arr.tolist())\n",
        "print(row_2 in arr.tolist())"
      ],
      "execution_count": null,
      "outputs": [
        {
          "output_type": "stream",
          "text": [
            "[[1 1 1]\n",
            " [1 1 1]\n",
            " [1 1 1]]\n",
            "True\n",
            "False\n"
          ],
          "name": "stdout"
        }
      ]
    },
    {
      "cell_type": "code",
      "metadata": {
        "colab": {
          "base_uri": "https://localhost:8080/"
        },
        "id": "GU_CbxD49rJu",
        "outputId": "120ee0a8-1139-47ad-8bef-86741329c3d4"
      },
      "source": [
        "#How to Remove rows in Numpy array that contains non-numeric values?\n",
        "arr = np.array([[1, np.nan, 3], [4, np.nan, np.nan], [7, 8, 9]])\n",
        "print(arr)\n",
        "  \n",
        "arr = arr[~np.isnan(arr).any(axis=1)]# removing rows with nan values \n",
        "print(arr)"
      ],
      "execution_count": null,
      "outputs": [
        {
          "output_type": "stream",
          "text": [
            "[[ 1. nan  3.]\n",
            " [ 4. nan nan]\n",
            " [ 7.  8.  9.]]\n",
            "[[7. 8. 9.]]\n"
          ],
          "name": "stdout"
        }
      ]
    },
    {
      "cell_type": "code",
      "metadata": {
        "colab": {
          "base_uri": "https://localhost:8080/"
        },
        "id": "eS9J0nLB9rS7",
        "outputId": "bc23e315-df50-40db-9dfb-0383fb7956cd"
      },
      "source": [
        "#Remove single-dimensional entries from the shape of an array\n",
        "arr = np.array([[[1, 2, 3], [4, 5, 6]]])\n",
        "print(arr.shape)\n",
        "arr = arr.squeeze()\n",
        "print(arr.shape)"
      ],
      "execution_count": null,
      "outputs": [
        {
          "output_type": "stream",
          "text": [
            "(1, 2, 3)\n",
            "(2, 3)\n"
          ],
          "name": "stdout"
        }
      ]
    },
    {
      "cell_type": "code",
      "metadata": {
        "colab": {
          "base_uri": "https://localhost:8080/"
        },
        "id": "6QkJbQNt9raV",
        "outputId": "09b185b2-dd15-47ee-e1af-38ba82d1773c"
      },
      "source": [
        "#Find the number of occurrences of a sequence in a NumPy array\n",
        "arr = np.array([[1, 2, 3], [4, 5, 6], [1, 3, 2], [3, 1, 2]])\n",
        "print(arr)\n",
        "sequence = \"1, 2\"\n",
        "print(repr(arr).count(sequence))"
      ],
      "execution_count": null,
      "outputs": [
        {
          "output_type": "stream",
          "text": [
            "[[1 2 3]\n",
            " [4 5 6]\n",
            " [1 3 2]\n",
            " [3 1 2]]\n",
            "2\n"
          ],
          "name": "stdout"
        }
      ]
    },
    {
      "cell_type": "code",
      "metadata": {
        "colab": {
          "base_uri": "https://localhost:8080/"
        },
        "id": "oiwd4-1J9riF",
        "outputId": "98fd3ce2-b8e9-4f9b-bbcf-52f69f96be15"
      },
      "source": [
        "#Find the most frequent value in a NumPy array\n",
        "arr = np.array([1, 2, 3, 4, 5, 6, 1, 3, 2, 3, 1, 2])\n",
        "print(arr)\n",
        "\n",
        "element_count = np.bincount(arr)\n",
        "index = 0\n",
        "\n",
        "while index < len(element_count):\n",
        "    if element_count[index] == max(element_count):\n",
        "      print(index, end=\" \")\n",
        "\n",
        "    index += 1"
      ],
      "execution_count": null,
      "outputs": [
        {
          "output_type": "stream",
          "text": [
            "[1 2 3 4 5 6 1 3 2 3 1 2]\n",
            "1 2 3 "
          ],
          "name": "stdout"
        }
      ]
    },
    {
      "cell_type": "code",
      "metadata": {
        "colab": {
          "base_uri": "https://localhost:8080/"
        },
        "id": "82MDZ8KH9rpO",
        "outputId": "2e32e300-cd47-4978-e109-49789d29e472"
      },
      "source": [
        "#Combining a one and a two-dimensional NumPy Array\n",
        "arr_1d = np.array([1, 2, 3])\n",
        "arr_2d = np.array([[4, 5, 6], [7, 8, 9]])\n",
        "\n",
        "for (i, j) in np.nditer([arr_1d, arr_2d]):\n",
        "  print(i, j)"
      ],
      "execution_count": null,
      "outputs": [
        {
          "output_type": "stream",
          "text": [
            "1 4\n",
            "2 5\n",
            "3 6\n",
            "1 7\n",
            "2 8\n",
            "3 9\n"
          ],
          "name": "stdout"
        }
      ]
    },
    {
      "cell_type": "code",
      "metadata": {
        "colab": {
          "base_uri": "https://localhost:8080/"
        },
        "id": "8ne2Zcji9rwA",
        "outputId": "c1b697e6-d1d3-404b-a2f7-269196b96153"
      },
      "source": [
        "#How to build an array of all combinations of two NumPy arrays?\n",
        "arr_1 = np.array([1, 2, 3])\n",
        "arr_2 = np.array([4, 5, 6])\n",
        "\n",
        "print(np.array(np.meshgrid(arr_1, arr_2)).T.reshape(-1, 2))"
      ],
      "execution_count": null,
      "outputs": [
        {
          "output_type": "stream",
          "text": [
            "[[1 4]\n",
            " [1 5]\n",
            " [1 6]\n",
            " [2 4]\n",
            " [2 5]\n",
            " [2 6]\n",
            " [3 4]\n",
            " [3 5]\n",
            " [3 6]]\n"
          ],
          "name": "stdout"
        }
      ]
    },
    {
      "cell_type": "code",
      "metadata": {
        "colab": {
          "base_uri": "https://localhost:8080/"
        },
        "id": "cJxAwZGU9r2P",
        "outputId": "33eb833e-18ba-4864-caed-9c98be1ee740"
      },
      "source": [
        "#How to add a border around a NumPy array?\n",
        "arr = np.array([[1, 2, 3], [4, 5, 6]])\n",
        "print(arr)\n",
        "  \n",
        "arr = np.pad(arr, pad_width=1, mode='constant', constant_values=-1)\n",
        "print(arr)"
      ],
      "execution_count": null,
      "outputs": [
        {
          "output_type": "stream",
          "text": [
            "[[1 2 3]\n",
            " [4 5 6]]\n",
            "[[-1 -1 -1 -1 -1]\n",
            " [-1  1  2  3 -1]\n",
            " [-1  4  5  6 -1]\n",
            " [-1 -1 -1 -1 -1]]\n"
          ],
          "name": "stdout"
        }
      ]
    },
    {
      "cell_type": "code",
      "metadata": {
        "colab": {
          "base_uri": "https://localhost:8080/"
        },
        "id": "MmURJcYBWPff",
        "outputId": "37939c0c-d353-431e-d5f2-18384a47dac9"
      },
      "source": [
        "#How to compare two NumPy arrays?\n",
        "arr_1 = np.array([1, 2, 3])\n",
        "arr_2 = np.array([4, 5, 6])\n",
        "\n",
        "comparison = (arr_1 == arr_2)\n",
        "\n",
        "if comparison.all():\n",
        "  print('Iguais')\n",
        "else:\n",
        "  print('Diferentes')"
      ],
      "execution_count": null,
      "outputs": [
        {
          "output_type": "stream",
          "text": [
            "Diferentes\n"
          ],
          "name": "stdout"
        }
      ]
    },
    {
      "cell_type": "code",
      "metadata": {
        "colab": {
          "base_uri": "https://localhost:8080/"
        },
        "id": "8VeVQNVyYgUX",
        "outputId": "1f9687a6-49ed-43ef-ad08-ac09b0692fe9"
      },
      "source": [
        "#How to check whether specified values are present in NumPy array?\n",
        "arr = np.array([1, 2, 3])\n",
        "\n",
        "print(1 in arr)\n",
        "print(4 in arr)"
      ],
      "execution_count": null,
      "outputs": [
        {
          "output_type": "stream",
          "text": [
            "True\n",
            "False\n"
          ],
          "name": "stdout"
        }
      ]
    },
    {
      "cell_type": "code",
      "metadata": {
        "colab": {
          "base_uri": "https://localhost:8080/"
        },
        "id": "A8h3d8VhYgiw",
        "outputId": "05207e89-0489-471d-8410-47346e4eef1d"
      },
      "source": [
        "#How to get all 2D diagonals of a 3D NumPy array?\n",
        "arr = np.arange(3 * 3 * 3).reshape(3, 3, 3)\n",
        "print(arr)  \n",
        "print('--------------------------------------')\n",
        "\n",
        "diagonals = np.diagonal(arr)\n",
        "print(diagonals)\n"
      ],
      "execution_count": null,
      "outputs": [
        {
          "output_type": "stream",
          "text": [
            "[[[ 0  1  2]\n",
            "  [ 3  4  5]\n",
            "  [ 6  7  8]]\n",
            "\n",
            " [[ 9 10 11]\n",
            "  [12 13 14]\n",
            "  [15 16 17]]\n",
            "\n",
            " [[18 19 20]\n",
            "  [21 22 23]\n",
            "  [24 25 26]]]\n",
            "--------------------------------------\n",
            "[[ 0 12 24]\n",
            " [ 1 13 25]\n",
            " [ 2 14 26]]\n"
          ],
          "name": "stdout"
        }
      ]
    },
    {
      "cell_type": "code",
      "metadata": {
        "colab": {
          "base_uri": "https://localhost:8080/"
        },
        "id": "XrJXqCImYgrO",
        "outputId": "021c0606-c9c1-47af-8cde-0dc98e384b90"
      },
      "source": [
        "#Flatten a Matrix in Python using NumPy\n",
        "arr = np.array([[1, 2, 3], [4, 5, 6]])\n",
        "print(arr)\n",
        "\n",
        "arr = arr.flatten()\n",
        "print(arr)"
      ],
      "execution_count": null,
      "outputs": [
        {
          "output_type": "stream",
          "text": [
            "[[1 2 3]\n",
            " [4 5 6]]\n",
            "[1 2 3 4 5 6]\n"
          ],
          "name": "stdout"
        }
      ]
    },
    {
      "cell_type": "code",
      "metadata": {
        "colab": {
          "base_uri": "https://localhost:8080/"
        },
        "id": "j-3sCA_bYgyn",
        "outputId": "94f10ac6-8664-466d-94ad-93646b798932"
      },
      "source": [
        "#Flatten a 2d numpy array into 1d array\n",
        "# basically the same thing that the question above does, so I just repeated the flatten() method\n",
        "arr = np.array([[1, 2, 3], [4, 5, 6]])\n",
        "print(arr)\n",
        "\n",
        "arr = arr.flatten()\n",
        "print(arr)"
      ],
      "execution_count": null,
      "outputs": [
        {
          "output_type": "stream",
          "text": [
            "[[1 2 3]\n",
            " [4 5 6]]\n",
            "[1 2 3 4 5 6]\n"
          ],
          "name": "stdout"
        }
      ]
    },
    {
      "cell_type": "code",
      "metadata": {
        "colab": {
          "base_uri": "https://localhost:8080/"
        },
        "id": "HVVvTvdCYg5q",
        "outputId": "437ad836-941a-4904-dbd8-a2c79d154ed4"
      },
      "source": [
        "#Move axes of an array to new positions\n",
        "arr = np.array([[1, 2, 3], [4, 5, 6]])  \n",
        "print(arr.shape)\n",
        "\n",
        "arr = np.moveaxis(arr, 0, 1)\n",
        "print(arr.shape)"
      ],
      "execution_count": null,
      "outputs": [
        {
          "output_type": "stream",
          "text": [
            "(2, 3)\n",
            "(3, 2)\n"
          ],
          "name": "stdout"
        }
      ]
    },
    {
      "cell_type": "code",
      "metadata": {
        "colab": {
          "base_uri": "https://localhost:8080/"
        },
        "id": "SGnglfA2YhAR",
        "outputId": "598918fc-9c33-4b82-a1e0-614da010ff1f"
      },
      "source": [
        "#Interchange two axes of an array\n",
        "#Pretty much the same thing, but the method swapaxes swap two axes while moveaxis can move the position of more than 2 axes\n",
        "arr = np.array([[1, 2, 3], [4, 5, 6]])  \n",
        "print(arr.shape)\n",
        "\n",
        "arr = np.swapaxes(arr, 0, 1)\n",
        "print(arr.shape)"
      ],
      "execution_count": null,
      "outputs": [
        {
          "output_type": "stream",
          "text": [
            "(2, 3)\n",
            "(3, 2)\n"
          ],
          "name": "stdout"
        }
      ]
    },
    {
      "cell_type": "code",
      "metadata": {
        "colab": {
          "base_uri": "https://localhost:8080/"
        },
        "id": "L1HUDDn5YhGp",
        "outputId": "7aa7804f-70b2-48f4-d971-19b8a00e4f66"
      },
      "source": [
        "#NumPy – Fibonacci Series using Binet Formula\n",
        "n = int(input(\"Enter the value of n: \"))\n",
        "fibonacci_numbers = np.arange(0, n)\n",
        "\n",
        "alpha = (1 + np.sqrt(5)) / 2\n",
        "beta = (1 - np.sqrt(5)) / 2\n",
        "fn = ((alpha ** fibonacci_numbers) - (beta ** fibonacci_numbers)) * (1 / np.sqrt(5))\n",
        "\n",
        "print(\"These are the numbers of the first n fibonacci series:\")\n",
        "print(fn)"
      ],
      "execution_count": null,
      "outputs": [
        {
          "output_type": "stream",
          "text": [
            "Enter the value of n: 10\n",
            "These are the numbers of the first n fibonacci series:\n",
            "[ 0.  1.  1.  2.  3.  5.  8. 13. 21. 34.]\n"
          ],
          "name": "stdout"
        }
      ]
    },
    {
      "cell_type": "code",
      "metadata": {
        "colab": {
          "base_uri": "https://localhost:8080/"
        },
        "id": "ryBsTlcOYhNB",
        "outputId": "41bbb78d-1504-466d-cb32-fab67b70d947"
      },
      "source": [
        "#Counts the number of non-zero values in the array\n",
        "arr = np.array([1, 2, 3, 0, 1, 2, 0, 3, 40, 0, 2])\n",
        "print(np.count_nonzero(arr))"
      ],
      "execution_count": null,
      "outputs": [
        {
          "output_type": "stream",
          "text": [
            "8\n"
          ],
          "name": "stdout"
        }
      ]
    },
    {
      "cell_type": "code",
      "metadata": {
        "colab": {
          "base_uri": "https://localhost:8080/"
        },
        "id": "ZiyT0XgvYhTM",
        "outputId": "c6239967-f5d2-438c-a073-7eb481618f62"
      },
      "source": [
        "#Count the number of elements along a given axis\n",
        "arr = np.array([[1, 2, 3], [4, 5, 6]]) \n",
        "\n",
        "print(np.size(arr, 0)) # x-axis\n",
        "print(np.size(arr, 1)) # y-axis"
      ],
      "execution_count": null,
      "outputs": [
        {
          "output_type": "stream",
          "text": [
            "2\n",
            "3\n"
          ],
          "name": "stdout"
        }
      ]
    },
    {
      "cell_type": "code",
      "metadata": {
        "colab": {
          "base_uri": "https://localhost:8080/"
        },
        "id": "o3hpEFtKsfOX",
        "outputId": "be9ae0a7-8bf1-4aa1-d46a-5b6131619ba0"
      },
      "source": [
        "#Trim the leading and/or trailing zeros from a 1-D array\n",
        "arr = np.array([0, 0, 1, 2, 3, 0, 1, 2, 0, 3, 40, 0, 2, 0])\n",
        "print(arr)\n",
        "\n",
        "arr = np.trim_zeros(arr)\n",
        "print(arr)"
      ],
      "execution_count": null,
      "outputs": [
        {
          "output_type": "stream",
          "text": [
            "[ 0  0  1  2  3  0  1  2  0  3 40  0  2  0]\n",
            "[ 1  2  3  0  1  2  0  3 40  0  2]\n"
          ],
          "name": "stdout"
        }
      ]
    },
    {
      "cell_type": "code",
      "metadata": {
        "colab": {
          "base_uri": "https://localhost:8080/"
        },
        "id": "AhHpyMMzsfb-",
        "outputId": "4cdfff17-e69b-4da9-8f1f-d1d0b7b3ed15"
      },
      "source": [
        "#Change data type of given numpy array\n",
        "arr = np.array([1, 2, 3])\n",
        "print(arr.dtype)\n",
        "\n",
        "arr = arr.astype('bool')\n",
        "print(arr.dtype)"
      ],
      "execution_count": null,
      "outputs": [
        {
          "output_type": "stream",
          "text": [
            "int64\n",
            "bool\n",
            "[ True  True  True]\n"
          ],
          "name": "stdout"
        }
      ]
    },
    {
      "cell_type": "code",
      "metadata": {
        "colab": {
          "base_uri": "https://localhost:8080/"
        },
        "id": "3oN2j__msfkm",
        "outputId": "23f172f0-cd87-422b-d59f-3dce80861ae3"
      },
      "source": [
        "#Reverse a numpy array\n",
        "arr = np.array([1, 2, 3])\n",
        "print(arr)\n",
        "\n",
        "arr = np.flipud(arr)\n",
        "print(arr)"
      ],
      "execution_count": null,
      "outputs": [
        {
          "output_type": "stream",
          "text": [
            "[1 2 3]\n",
            "[3 2 1]\n"
          ],
          "name": "stdout"
        }
      ]
    },
    {
      "cell_type": "code",
      "metadata": {
        "colab": {
          "base_uri": "https://localhost:8080/"
        },
        "id": "3GuZ50ivsfrf",
        "outputId": "d5643568-8688-4720-d1c8-96fb1199f06e"
      },
      "source": [
        "#How to make a NumPy array read-only?\n",
        "arr = np.array([1, 2, 3])\n",
        "print(arr)\n",
        "\n",
        "arr[0] = 10\n",
        "print(arr)\n",
        "\n",
        "arr.flags.writeable = False\n",
        "#arr[0] = 2 #uncomment to see the error"
      ],
      "execution_count": null,
      "outputs": [
        {
          "output_type": "stream",
          "text": [
            "[1 2 3]\n",
            "[10  2  3]\n"
          ],
          "name": "stdout"
        }
      ]
    },
    {
      "cell_type": "code",
      "metadata": {
        "colab": {
          "base_uri": "https://localhost:8080/"
        },
        "id": "2KDrl-5AsfyD",
        "outputId": "87171ba1-a549-4cdf-84fe-b6b9c9bbbc3a"
      },
      "source": [
        "#Get the maximum value from given matrix\n",
        "arr = np.arange(10).reshape(2, 5)\n",
        "print(arr)\n",
        "print(np.max(arr))"
      ],
      "execution_count": null,
      "outputs": [
        {
          "output_type": "stream",
          "text": [
            "[[0 1 2 3 4]\n",
            " [5 6 7 8 9]]\n",
            "9\n"
          ],
          "name": "stdout"
        }
      ]
    },
    {
      "cell_type": "code",
      "metadata": {
        "colab": {
          "base_uri": "https://localhost:8080/"
        },
        "id": "PfbJsOrYsf36",
        "outputId": "be98aef5-d45a-4853-df92-64666bb8d04b"
      },
      "source": [
        "#Get the minimum value from given matrix\n",
        "arr = np.arange(10).reshape(2, 5)\n",
        "print(arr)\n",
        "print(np.min(arr))"
      ],
      "execution_count": null,
      "outputs": [
        {
          "output_type": "stream",
          "text": [
            "[[0 1 2 3 4]\n",
            " [5 6 7 8 9]]\n",
            "0\n"
          ],
          "name": "stdout"
        }
      ]
    },
    {
      "cell_type": "code",
      "metadata": {
        "colab": {
          "base_uri": "https://localhost:8080/"
        },
        "id": "TvAyT03osf-B",
        "outputId": "86f3d6c5-d11c-4e65-af8c-53564df10151"
      },
      "source": [
        "#Find the number of rows and columns of a given matrix using NumPy\n",
        "arr = np.arange(10).reshape(2, 5)\n",
        "print(arr.shape)"
      ],
      "execution_count": null,
      "outputs": [
        {
          "output_type": "stream",
          "text": [
            "(2, 5)\n"
          ],
          "name": "stdout"
        }
      ]
    },
    {
      "cell_type": "code",
      "metadata": {
        "colab": {
          "base_uri": "https://localhost:8080/"
        },
        "id": "yV350JN2sgET",
        "outputId": "72e4a26e-9fff-4acd-da13-7d77fd0a94d6"
      },
      "source": [
        "#Select the elements from a given matrix\n",
        "arr = np.arange(10).reshape(2, 5)\n",
        "print(arr)\n",
        "print(arr[0][2])\n",
        "print(arr[1][1])"
      ],
      "execution_count": null,
      "outputs": [
        {
          "output_type": "stream",
          "text": [
            "[[0 1 2 3 4]\n",
            " [5 6 7 8 9]]\n",
            "2\n",
            "6\n"
          ],
          "name": "stdout"
        }
      ]
    },
    {
      "cell_type": "code",
      "metadata": {
        "colab": {
          "base_uri": "https://localhost:8080/"
        },
        "id": "9nvJzfPQsgJw",
        "outputId": "7c9c7ae1-cb9b-4d6b-df58-d843e4158dd4"
      },
      "source": [
        "#Find the sum of values in a matrix\n",
        "arr = np.arange(10).reshape(2, 5)\n",
        "print(arr)\n",
        "print(np.sum(arr))"
      ],
      "execution_count": null,
      "outputs": [
        {
          "output_type": "stream",
          "text": [
            "[[0 1 2 3 4]\n",
            " [5 6 7 8 9]]\n",
            "45\n"
          ],
          "name": "stdout"
        }
      ]
    },
    {
      "cell_type": "code",
      "metadata": {
        "id": "41yoB4BwuqdX",
        "colab": {
          "base_uri": "https://localhost:8080/"
        },
        "outputId": "aa688ac3-46fc-4eb9-d269-4b93ef883d43"
      },
      "source": [
        "#Calculate the sum of the diagonal elements of a NumPy array\n",
        "arr = np.arange(9).reshape(3, 3)\n",
        "print(arr)\n",
        "\n",
        "diagonal_sum = np.trace(arr)\n",
        "print(diagonal_sum)"
      ],
      "execution_count": null,
      "outputs": [
        {
          "output_type": "stream",
          "text": [
            "[[0 1 2]\n",
            " [3 4 5]\n",
            " [6 7 8]]\n",
            "12\n"
          ],
          "name": "stdout"
        }
      ]
    },
    {
      "cell_type": "code",
      "metadata": {
        "id": "R1diJw-Quqku",
        "colab": {
          "base_uri": "https://localhost:8080/"
        },
        "outputId": "bf966759-3189-4ea6-842c-0774024f1298"
      },
      "source": [
        "#Adding and Subtracting Matrices in Python\n",
        "arr_1 = np.array([[1, 2, 3], [4, 5, 6]])\n",
        "arr_2 = np.array([[7, 8, 9], [10, 11, 12]])\n",
        "\n",
        "print(np.add(arr_1, arr_2))\n",
        "print(np.subtract(arr_1, arr_2))"
      ],
      "execution_count": null,
      "outputs": [
        {
          "output_type": "stream",
          "text": [
            "[[ 8 10 12]\n",
            " [14 16 18]]\n",
            "[[-6 -6 -6]\n",
            " [-6 -6 -6]]\n"
          ],
          "name": "stdout"
        }
      ]
    },
    {
      "cell_type": "code",
      "metadata": {
        "id": "2ZN-dB--uqqx",
        "colab": {
          "base_uri": "https://localhost:8080/"
        },
        "outputId": "aa74e833-8ccc-45de-e8a0-dde94fe2e371"
      },
      "source": [
        "#Ways to add row/columns in numpy array\n",
        "arr = np.array([1, 2, 3])\n",
        "print(arr)\n",
        "\n",
        "new_row = np.array([4, 5, 6])\n",
        "arr = np.vstack((arr, new_row))\n",
        "print(arr)\n",
        "\n",
        "\n",
        "new_column = np.array([10, 11])\n",
        "arr = np.column_stack((arr, new_column))\n",
        "print(arr)\n"
      ],
      "execution_count": null,
      "outputs": [
        {
          "output_type": "stream",
          "text": [
            "[1 2 3]\n",
            "[[1 2 3]\n",
            " [4 5 6]]\n",
            "[[ 1  2  3 10]\n",
            " [ 4  5  6 11]]\n"
          ],
          "name": "stdout"
        }
      ]
    },
    {
      "cell_type": "code",
      "metadata": {
        "colab": {
          "base_uri": "https://localhost:8080/"
        },
        "id": "XCgsv2e7h5AV",
        "outputId": "ef702b64-bfe0-4cd6-bfae-066af5ad4895"
      },
      "source": [
        "#Matrix Multiplication in NumPy\n",
        "arr_1 = np.array([[1, 2, 3], [4, 5, 6]])\n",
        "arr_2 = np.array([[7, 8, 9], [10, 11, 12], [13, 14, 15]])\n",
        "\n",
        "print(arr_1.dot(arr_2))"
      ],
      "execution_count": null,
      "outputs": [
        {
          "output_type": "stream",
          "text": [
            "[[ 66  72  78]\n",
            " [156 171 186]]\n"
          ],
          "name": "stdout"
        }
      ]
    },
    {
      "cell_type": "code",
      "metadata": {
        "colab": {
          "base_uri": "https://localhost:8080/"
        },
        "id": "eIGato4bh5IQ",
        "outputId": "18532e1b-3c51-43bc-bcd3-8f16a23c5804"
      },
      "source": [
        "#Get the eigen values of a matrix\n",
        "arr = np.array([[1, 2], [3, 4]])\n",
        "\n",
        "eigen_values, eigen_vectors = np.linalg.eig(arr)\n",
        "print(eigen_values)"
      ],
      "execution_count": null,
      "outputs": [
        {
          "output_type": "stream",
          "text": [
            "[-0.37228132  5.37228132]\n"
          ],
          "name": "stdout"
        }
      ]
    },
    {
      "cell_type": "code",
      "metadata": {
        "colab": {
          "base_uri": "https://localhost:8080/"
        },
        "id": "zIDKMF6_h5Pc",
        "outputId": "d6dbf766-f70f-4ca4-ce67-c312293c4169"
      },
      "source": [
        "#How to Calculate the determinant of a matrix using NumPy?\n",
        "arr = np.array([[1, 2], [3, 4]])\n",
        "\n",
        "determinant = int(np.linalg.det(arr))\n",
        "print(determinant)"
      ],
      "execution_count": null,
      "outputs": [
        {
          "output_type": "stream",
          "text": [
            "-2\n"
          ],
          "name": "stdout"
        }
      ]
    },
    {
      "cell_type": "code",
      "metadata": {
        "colab": {
          "base_uri": "https://localhost:8080/"
        },
        "id": "5-G9lOXOh5Wl",
        "outputId": "215f2cc7-5ad3-474b-952d-8c180cc0eeb1"
      },
      "source": [
        "#How to inverse a matrix using NumPy\n",
        "arr = np.array([[1, 2], [3, 4]])\n",
        "print(arr)\n",
        "\n",
        "inverse_arr = np.linalg.inv(arr)\n",
        "print(inverse_arr)"
      ],
      "execution_count": null,
      "outputs": [
        {
          "output_type": "stream",
          "text": [
            "[[1 2]\n",
            " [3 4]]\n",
            "[[-2.   1. ]\n",
            " [ 1.5 -0.5]]\n"
          ],
          "name": "stdout"
        }
      ]
    },
    {
      "cell_type": "code",
      "metadata": {
        "colab": {
          "base_uri": "https://localhost:8080/"
        },
        "id": "A6OLbiseh5cw",
        "outputId": "7f102069-5d4f-409b-99b7-eaa09ed559b3"
      },
      "source": [
        "#How to count the frequency of unique values in NumPy array?\n",
        "arr = np.array([1, 2, 3, 1, 3, 0, 8, 7, 8, 7, 2, 3, 1, 0, 2, 6])\n",
        "unique, unique_counts = np.unique(arr, return_counts=True)\n",
        "\n",
        "for i, j in zip(unique, unique_counts):\n",
        "  print(i, j)"
      ],
      "execution_count": null,
      "outputs": [
        {
          "output_type": "stream",
          "text": [
            "0 2\n",
            "1 3\n",
            "2 3\n",
            "3 3\n",
            "6 1\n",
            "7 2\n",
            "8 2\n"
          ],
          "name": "stdout"
        }
      ]
    },
    {
      "cell_type": "code",
      "metadata": {
        "colab": {
          "base_uri": "https://localhost:8080/"
        },
        "id": "tMrvm1h3h5in",
        "outputId": "49f44310-3607-4342-838a-8dd5dd19c161"
      },
      "source": [
        "#Multiply matrices of complex numbers using NumPy in Python\n",
        "arr_1 = np.array([1+4j, 3+9j])  \n",
        "arr_2 = np.array([2+2j, 10+1j])\n",
        "  \n",
        "print(np.vdot(arr_1, arr_2))"
      ],
      "execution_count": null,
      "outputs": [
        {
          "output_type": "stream",
          "text": [
            "(49-93j)\n"
          ],
          "name": "stdout"
        }
      ]
    },
    {
      "cell_type": "code",
      "metadata": {
        "colab": {
          "base_uri": "https://localhost:8080/"
        },
        "id": "_fZi-YCBh5o8",
        "outputId": "663b1b7a-0315-4919-f20d-d3cfbed66954"
      },
      "source": [
        "#Compute the outer product of two given vectors using NumPy in Python\n",
        "arr_1 = np.array([1, 2])\n",
        "arr_2 = np.array([3, 4])\n",
        "\n",
        "print(np.outer(arr_1, arr_2))"
      ],
      "execution_count": null,
      "outputs": [
        {
          "output_type": "stream",
          "text": [
            "[[3 4]\n",
            " [6 8]]\n"
          ],
          "name": "stdout"
        }
      ]
    },
    {
      "cell_type": "code",
      "metadata": {
        "colab": {
          "base_uri": "https://localhost:8080/"
        },
        "id": "yk8nCCw3h5uw",
        "outputId": "3ef4500c-7d39-43f5-a4b0-4d4be990caca"
      },
      "source": [
        "#Calculate inner, outer, and cross products of matrices and vectors using NumPy\n",
        "arr_1 = np.array([[5, 3], [9, 7]])  \n",
        "arr_2 = np.array([[2, 10], [4, 3]])\n",
        "  \n",
        "#inner product\n",
        "print(np.inner(arr_1, arr_2))\n",
        "\n",
        "#outer product\n",
        "print(np.outer(arr_1, arr_2))\n",
        "\n",
        "#cross product \n",
        "print(np.cross(arr_1, arr_2))"
      ],
      "execution_count": null,
      "outputs": [
        {
          "output_type": "stream",
          "text": [
            "[[40 29]\n",
            " [88 57]]\n",
            "[[10 50 20 15]\n",
            " [ 6 30 12  9]\n",
            " [18 90 36 27]\n",
            " [14 70 28 21]]\n",
            "[44 -1]\n"
          ],
          "name": "stdout"
        }
      ]
    },
    {
      "cell_type": "code",
      "metadata": {
        "colab": {
          "base_uri": "https://localhost:8080/"
        },
        "id": "-gWZG9VjqM6b",
        "outputId": "f0ec5be0-273d-4e9d-99ff-12bdbbd34dd1"
      },
      "source": [
        "#Compute the covariance matrix of two given NumPy arrays\n",
        "arr_1 = np.array([[5, 3], [9, 7]])  \n",
        "arr_2 = np.array([[2, 10], [4, 3]])\n",
        "  \n",
        "print(np.cov(arr_1, arr_2))"
      ],
      "execution_count": null,
      "outputs": [
        {
          "output_type": "stream",
          "text": [
            "[[ 2.   2.  -8.   1. ]\n",
            " [ 2.   2.  -8.   1. ]\n",
            " [-8.  -8.  32.  -4. ]\n",
            " [ 1.   1.  -4.   0.5]]\n"
          ],
          "name": "stdout"
        }
      ]
    },
    {
      "cell_type": "code",
      "metadata": {
        "id": "hS1-GKrkqNES"
      },
      "source": [
        "#Convert covariance matrix to correlation matrix using Python"
      ],
      "execution_count": null,
      "outputs": []
    },
    {
      "cell_type": "code",
      "metadata": {
        "colab": {
          "base_uri": "https://localhost:8080/"
        },
        "id": "Q9j-PC9ZqNMy",
        "outputId": "8a5ccc64-20aa-40eb-d679-82c2da41a968"
      },
      "source": [
        "#Compute the Kronecker product of two mulitdimension NumPy arrays\n",
        "arr_1 = np.array([[5, 3], [9, 7]])  \n",
        "arr_2 = np.array([[2, 10], [4, 3]])\n",
        "  \n",
        "print(np.kron(arr_1, arr_2))"
      ],
      "execution_count": null,
      "outputs": [
        {
          "output_type": "stream",
          "text": [
            "[[10 50  6 30]\n",
            " [20 15 12  9]\n",
            " [18 90 14 70]\n",
            " [36 27 28 21]]\n"
          ],
          "name": "stdout"
        }
      ]
    },
    {
      "cell_type": "code",
      "metadata": {
        "colab": {
          "base_uri": "https://localhost:8080/"
        },
        "id": "-I9FGneuqNTa",
        "outputId": "836b32d8-094f-421e-d851-ebe0f2231420"
      },
      "source": [
        "#Convert the matrix into a list\n",
        "arr = np.array([[5, 3], [9, 7]])  \n",
        "print(arr)\n",
        "\n",
        "arr = arr.tolist()\n",
        "print(arr)"
      ],
      "execution_count": null,
      "outputs": [
        {
          "output_type": "stream",
          "text": [
            "[[5 3]\n",
            " [9 7]]\n",
            "[[5, 3], [9, 7]]\n"
          ],
          "name": "stdout"
        }
      ]
    },
    {
      "cell_type": "code",
      "metadata": {
        "colab": {
          "base_uri": "https://localhost:8080/"
        },
        "id": "tecPTdSZqNZo",
        "outputId": "d8347c7b-7c0b-471e-8e7f-a33d9d598409"
      },
      "source": [
        "#Replace NumPy array elements that doesn’t satisfy the given condition\n",
        "arr = np.array([[5, 3], [9, 7]])  \n",
        "print(arr)\n",
        "\n",
        "print(np.where(arr > 6, 6, arr)) # replacing elements bigger than 6 per 6"
      ],
      "execution_count": null,
      "outputs": [
        {
          "output_type": "stream",
          "text": [
            "[[5 3]\n",
            " [9 7]]\n",
            "[[5 3]\n",
            " [6 6]]\n"
          ],
          "name": "stdout"
        }
      ]
    },
    {
      "cell_type": "code",
      "metadata": {
        "colab": {
          "base_uri": "https://localhost:8080/"
        },
        "id": "AGqEVKaRqNfW",
        "outputId": "df775324-e45f-44ce-b8ed-f99c62c109e9"
      },
      "source": [
        "#Return the indices of elements where the given condition is satisfied\n",
        "#Using the same method as the question above\n",
        "arr = np.array([[5, 3], [9, 7]])  \n",
        "print(arr)\n",
        "\n",
        "print(np.where(arr > 6)) # showing all elements that match the condition"
      ],
      "execution_count": null,
      "outputs": [
        {
          "output_type": "stream",
          "text": [
            "[[5 3]\n",
            " [9 7]]\n",
            "(array([1, 1]), array([0, 1]))\n"
          ],
          "name": "stdout"
        }
      ]
    },
    {
      "cell_type": "code",
      "metadata": {
        "colab": {
          "base_uri": "https://localhost:8080/"
        },
        "id": "WTN6yiGGqNk3",
        "outputId": "b10c56dd-bfc1-4dc3-ab77-ae1577525992"
      },
      "source": [
        "#Replace NaN values with average of columns\n",
        "arr = np.array([[np.nan, 3], [9, np.nan], [10, 28]])  \n",
        "print(arr)\n",
        "\n",
        "nan_indices = np.where(np.isnan(arr))\n",
        "columns_mean = np.nanmean(arr, axis=0)\n",
        "arr[nan_indices] = np.take(columns_mean, nan_indices[1])\n",
        "\n",
        "print(arr)"
      ],
      "execution_count": null,
      "outputs": [
        {
          "output_type": "stream",
          "text": [
            "[[nan  3.]\n",
            " [ 9. nan]\n",
            " [10. 28.]]\n",
            "[[ 9.5  3. ]\n",
            " [ 9.  15.5]\n",
            " [10.  28. ]]\n"
          ],
          "name": "stdout"
        }
      ]
    },
    {
      "cell_type": "code",
      "metadata": {
        "colab": {
          "base_uri": "https://localhost:8080/"
        },
        "id": "qZZ0ky17qNqk",
        "outputId": "834bb7f6-b460-4da9-81be-c918323e577d"
      },
      "source": [
        "#Replace negative value with zero in numpy array\n",
        "arr = np.array([[-5, 3], [9, -7]])  \n",
        "print(arr)\n",
        "\n",
        "print(np.where(arr < 0, 0, arr)) # replacing negative elements per 0"
      ],
      "execution_count": null,
      "outputs": [
        {
          "output_type": "stream",
          "text": [
            "[[-5  3]\n",
            " [ 9 -7]]\n",
            "[[0 3]\n",
            " [9 0]]\n"
          ],
          "name": "stdout"
        }
      ]
    },
    {
      "cell_type": "code",
      "metadata": {
        "colab": {
          "base_uri": "https://localhost:8080/"
        },
        "id": "OjgFK8yzqNwK",
        "outputId": "556a22a1-df2e-4a38-c77b-b17ba105eb5d"
      },
      "source": [
        "#How to get values of an NumPy array at certain index positions?\n",
        "arr_1 = np.array([1, 2, 3])\n",
        "arr_2 = np.array([4, 5, 6, 7])\n",
        "\n",
        "print(arr_1)\n",
        "arr_1.put([0, 2], arr_2)\n",
        "print(arr_1)"
      ],
      "execution_count": null,
      "outputs": [
        {
          "output_type": "stream",
          "text": [
            "[1 2 3]\n",
            "[4 2 5]\n"
          ],
          "name": "stdout"
        }
      ]
    },
    {
      "cell_type": "code",
      "metadata": {
        "colab": {
          "base_uri": "https://localhost:8080/"
        },
        "id": "VqU1F0m-qN1s",
        "outputId": "6ec73cb9-1023-4a93-83fb-02a2db16b152"
      },
      "source": [
        "#Find indices of elements equal to zero in a NumPy array\n",
        "arr = np.array([[5, 0], [9, 0]])  \n",
        "print(arr)\n",
        "\n",
        "print(np.where(arr == 0)) # showing all elements that match the condition"
      ],
      "execution_count": null,
      "outputs": [
        {
          "output_type": "stream",
          "text": [
            "[[5 0]\n",
            " [9 0]]\n",
            "(array([0, 1]), array([1, 1]))\n"
          ],
          "name": "stdout"
        }
      ]
    },
    {
      "cell_type": "code",
      "metadata": {
        "colab": {
          "base_uri": "https://localhost:8080/"
        },
        "id": "v7VaCM4MqN6F",
        "outputId": "3e639d66-0296-4366-e26c-d93ad72e1081"
      },
      "source": [
        "#How to Remove columns in Numpy array that contains non-numeric values?\n",
        "arr = np.array([[1, np.nan, 3], [4, np.nan, np.nan], [7, 8, 9]])\n",
        "print(arr)\n",
        "  \n",
        "arr = arr[:, ~np.isnan(arr).any(axis=0)]# removing columns with nan values \n",
        "print(arr)"
      ],
      "execution_count": null,
      "outputs": [
        {
          "output_type": "stream",
          "text": [
            "[[ 1. nan  3.]\n",
            " [ 4. nan nan]\n",
            " [ 7.  8.  9.]]\n",
            "[[1.]\n",
            " [4.]\n",
            " [7.]]\n"
          ],
          "name": "stdout"
        }
      ]
    },
    {
      "cell_type": "code",
      "metadata": {
        "colab": {
          "base_uri": "https://localhost:8080/"
        },
        "id": "AV9KyR471oUr",
        "outputId": "c8fad045-7201-48a8-ffef-df94424aaba3"
      },
      "source": [
        "#How to access different rows of a multidimensional NumPy array?\n",
        "arr = np.array([[1, np.nan, 3], [4, np.nan, np.nan], [7, 8, 9]])\n",
        "print(arr)\n",
        "\n",
        "print(arr[[1, 2]]) # accessing row 1 and 2"
      ],
      "execution_count": null,
      "outputs": [
        {
          "output_type": "stream",
          "text": [
            "[[ 1. nan  3.]\n",
            " [ 4. nan nan]\n",
            " [ 7.  8.  9.]]\n",
            "[[ 4. nan nan]\n",
            " [ 7.  8.  9.]]\n"
          ],
          "name": "stdout"
        }
      ]
    },
    {
      "cell_type": "code",
      "metadata": {
        "colab": {
          "base_uri": "https://localhost:8080/"
        },
        "id": "sdDMzCK61ocR",
        "outputId": "efe47719-a4e0-45a0-e14a-bc571d424388"
      },
      "source": [
        "#Get row numbers of NumPy array having element larger than X\n",
        "arr = np.array([[1, 2, 3], [4, 5, 6], [7, 8, 9]])\n",
        "print(arr)\n",
        "\n",
        "print(np.where(np.any(arr > 3, axis=1)))"
      ],
      "execution_count": null,
      "outputs": [
        {
          "output_type": "stream",
          "text": [
            "[[1 2 3]\n",
            " [4 5 6]\n",
            " [7 8 9]]\n",
            "(array([1, 2]),)\n"
          ],
          "name": "stdout"
        }
      ]
    },
    {
      "cell_type": "code",
      "metadata": {
        "colab": {
          "base_uri": "https://localhost:8080/"
        },
        "id": "AVXBjnnV1oiz",
        "outputId": "c5e84bec-9bb1-4f4a-acdd-57c9e2c8d040"
      },
      "source": [
        "#Get filled the diagonals of NumPy array\n",
        "arr = np.array([[1, 2], [3, 4]])\n",
        "print(arr)\n",
        "\n",
        "np.fill_diagonal(arr, 3)\n",
        "print(arr)"
      ],
      "execution_count": null,
      "outputs": [
        {
          "output_type": "stream",
          "text": [
            "[[1 2]\n",
            " [3 4]]\n",
            "[[3 2]\n",
            " [3 3]]\n"
          ],
          "name": "stdout"
        }
      ]
    },
    {
      "cell_type": "code",
      "metadata": {
        "colab": {
          "base_uri": "https://localhost:8080/"
        },
        "id": "AhG9V-vK1oo3",
        "outputId": "281edd2e-a8f9-45b8-f43e-410859f5679a"
      },
      "source": [
        "#Check elements present in the NumPy array\n",
        "arr = np.array([1, 2, 3, 4, 5])\n",
        "elements = np.array([9, 3, 1, 5, 0, 10])\n",
        "\n",
        "print(np.isin(arr, elements))"
      ],
      "execution_count": null,
      "outputs": [
        {
          "output_type": "stream",
          "text": [
            "[ True False  True False  True]\n"
          ],
          "name": "stdout"
        }
      ]
    },
    {
      "cell_type": "code",
      "metadata": {
        "colab": {
          "base_uri": "https://localhost:8080/"
        },
        "id": "4NB9LBxc1ouf",
        "outputId": "aa7c171c-3bb5-4641-b037-d561042b9a9a"
      },
      "source": [
        "#Combined array index by index\n",
        "arr = np.array([1, 2, 3, 4, 5])\n",
        "print(arr)\n",
        "\n",
        "arr = arr[np.array([2, 2, 1, 0, 3, 3])]\n",
        "print(arr)"
      ],
      "execution_count": null,
      "outputs": [
        {
          "output_type": "stream",
          "text": [
            "[1 2 3 4 5]\n",
            "[3 3 2 1 4 4]\n"
          ],
          "name": "stdout"
        }
      ]
    },
    {
      "cell_type": "code",
      "metadata": {
        "colab": {
          "base_uri": "https://localhost:8080/"
        },
        "id": "aTnKRh-71o0H",
        "outputId": "77be88b0-8256-4675-e97d-6cedaa182fa8"
      },
      "source": [
        "#Find a matrix or vector norm using NumPy\n",
        "arr = np.arange(5)\n",
        "print(arr)\n",
        "\n",
        "print(np.linalg.norm(arr))"
      ],
      "execution_count": null,
      "outputs": [
        {
          "output_type": "stream",
          "text": [
            "[0 1 2 3 4]\n",
            "5.477225575051661\n"
          ],
          "name": "stdout"
        }
      ]
    },
    {
      "cell_type": "code",
      "metadata": {
        "colab": {
          "base_uri": "https://localhost:8080/"
        },
        "id": "QLFNNe6Y1o53",
        "outputId": "9d339de1-8be4-4b03-e0ed-68208eb1c02b"
      },
      "source": [
        "#Calculate the QR decomposition of a given matrix using NumPy\n",
        "arr = np.arange(9).reshape(3, 3)\n",
        "print(arr)\n",
        "\n",
        "Q, R = np.linalg.qr(arr)\n",
        "\n",
        "print(\"MATRIX Q:\")\n",
        "print(Q)\n",
        "\n",
        "print(\"MATRIX R:\")\n",
        "print(R)"
      ],
      "execution_count": null,
      "outputs": [
        {
          "output_type": "stream",
          "text": [
            "[[0 1 2]\n",
            " [3 4 5]\n",
            " [6 7 8]]\n",
            "MATRIX Q:\n",
            "[[ 0.          0.91287093  0.40824829]\n",
            " [-0.4472136   0.36514837 -0.81649658]\n",
            " [-0.89442719 -0.18257419  0.40824829]]\n",
            "MATRIX R:\n",
            "[[-6.70820393e+00 -8.04984472e+00 -9.39148551e+00]\n",
            " [ 0.00000000e+00  1.09544512e+00  2.19089023e+00]\n",
            " [ 0.00000000e+00  0.00000000e+00 -1.75770186e-15]]\n"
          ],
          "name": "stdout"
        }
      ]
    },
    {
      "cell_type": "code",
      "metadata": {
        "colab": {
          "base_uri": "https://localhost:8080/"
        },
        "id": "oNqyao5s1o_J",
        "outputId": "364f6fe9-9420-406b-fa79-dd6daa4daaba"
      },
      "source": [
        "#Compute the condition number of a given matrix using NumPy\n",
        "arr = np.arange(9).reshape(3, 3)\n",
        "print(arr)\n",
        "\n",
        "print(np.linalg.cond(arr))"
      ],
      "execution_count": null,
      "outputs": [
        {
          "output_type": "stream",
          "text": [
            "[[0 1 2]\n",
            " [3 4 5]\n",
            " [6 7 8]]\n",
            "2.857326358417597e+16\n"
          ],
          "name": "stdout"
        }
      ]
    },
    {
      "cell_type": "code",
      "metadata": {
        "colab": {
          "base_uri": "https://localhost:8080/"
        },
        "id": "I0Xs0heW1pEN",
        "outputId": "757eceac-ee26-404b-af84-c5c2801c097a"
      },
      "source": [
        "#Compute the eigenvalues and right eigenvectors of a given square array using NumPy?\n",
        "arr = np.array([[1, 2], [3, 4]])\n",
        "\n",
        "eigen_values, eigen_vectors = np.linalg.eig(arr)\n",
        "\n",
        "print(\"Eigenvalues:\")\n",
        "print(eigen_values)\n",
        "\n",
        "print(\"Eigenvectors:\")\n",
        "print(eigen_vectors)\n"
      ],
      "execution_count": null,
      "outputs": [
        {
          "output_type": "stream",
          "text": [
            "Eigenvalues:\n",
            "[-0.37228132  5.37228132]\n",
            "Eigenvectors:\n",
            "[[-0.82456484 -0.41597356]\n",
            " [ 0.56576746 -0.90937671]]\n"
          ],
          "name": "stdout"
        }
      ]
    },
    {
      "cell_type": "code",
      "metadata": {
        "colab": {
          "base_uri": "https://localhost:8080/"
        },
        "id": "HAMTpNbKh50O",
        "outputId": "3cc25e57-12ef-4687-dcf7-6e88530bee60"
      },
      "source": [
        "#Calculate the Euclidean distance using NumPy\n",
        "arr_1 = np.array((1, 1, 1))\n",
        "arr_2 = np.array((8, 4, 2))\n",
        "  \n",
        "print(np.linalg.norm(arr_1 - arr_2))"
      ],
      "execution_count": null,
      "outputs": [
        {
          "output_type": "stream",
          "text": [
            "7.681145747868608\n"
          ],
          "name": "stdout"
        }
      ]
    },
    {
      "cell_type": "code",
      "metadata": {
        "colab": {
          "base_uri": "https://localhost:8080/"
        },
        "id": "9qb39FFtwlBl",
        "outputId": "a739eff6-fa4d-4444-cf8b-501ab4ba2ac8"
      },
      "source": [
        "#Create a Numpy array with random values\n",
        "arr = np.empty([3])\n",
        "print(arr)"
      ],
      "execution_count": null,
      "outputs": [
        {
          "output_type": "stream",
          "text": [
            "[1.5e-323 9.9e-324 1.5e-323]\n"
          ],
          "name": "stdout"
        }
      ]
    },
    {
      "cell_type": "code",
      "metadata": {
        "colab": {
          "base_uri": "https://localhost:8080/"
        },
        "id": "Wb3J-yW_wlIu",
        "outputId": "967c7223-0a6d-46a4-ee9d-e26e6e8f6890"
      },
      "source": [
        "#How to choose elements from the list with different probability using NumPy?\n",
        "arr = [1, 2, 3]\n",
        "random_elements = np.random.choice(arr, 3, p=[0.2, 0.4, 0.4]) #using weights to get different probability for the elements\n",
        "print(random_elements)"
      ],
      "execution_count": null,
      "outputs": [
        {
          "output_type": "stream",
          "text": [
            "[3 2 3]\n"
          ],
          "name": "stdout"
        }
      ]
    },
    {
      "cell_type": "code",
      "metadata": {
        "colab": {
          "base_uri": "https://localhost:8080/"
        },
        "id": "4j6PcCfjwlP6",
        "outputId": "0c2c8fae-37e2-44d0-80e7-156d1c3783f6"
      },
      "source": [
        "#How to get weighted random choice in Python?\n",
        "arr = [1, 2, 3]\n",
        "random_elements = np.random.choice(arr, 3, p=[0.2, 0.4, 0.4])\n",
        "print(random_elements)"
      ],
      "execution_count": null,
      "outputs": [
        {
          "output_type": "stream",
          "text": [
            "[2 2 3]\n"
          ],
          "name": "stdout"
        }
      ]
    },
    {
      "cell_type": "code",
      "metadata": {
        "colab": {
          "base_uri": "https://localhost:8080/"
        },
        "id": "P6YkgPJcwlnF",
        "outputId": "c2e8c768-58d2-4ccc-80c6-136ee4087006"
      },
      "source": [
        "#Generate Random Numbers From The Uniform Distribution using NumPy\n",
        "arr = np.random.uniform(size=9)\n",
        "print(arr)"
      ],
      "execution_count": null,
      "outputs": [
        {
          "output_type": "stream",
          "text": [
            "[[0.08302057 0.33997567 0.56245427]\n",
            " [0.16623641 0.5798786  0.49332899]\n",
            " [0.15817274 0.56374367 0.68886444]]\n"
          ],
          "name": "stdout"
        }
      ]
    },
    {
      "cell_type": "code",
      "metadata": {
        "colab": {
          "base_uri": "https://localhost:8080/"
        },
        "id": "ikZPGvNrwlwP",
        "outputId": "f2e7269a-a9b2-4d2f-962d-31ccfeeef706"
      },
      "source": [
        "#Get Random Elements form geometric distribution\n",
        "arr = np.random.geometric(0.4, size=9)\n",
        "print(arr)"
      ],
      "execution_count": null,
      "outputs": [
        {
          "output_type": "stream",
          "text": [
            "[3 4 4 1 2 5 2 1 5]\n"
          ],
          "name": "stdout"
        }
      ]
    },
    {
      "cell_type": "code",
      "metadata": {
        "colab": {
          "base_uri": "https://localhost:8080/"
        },
        "id": "Ka2wQ_GXwl4U",
        "outputId": "35fa21cf-5321-4d27-d575-39caf470e3d4"
      },
      "source": [
        "#Get Random elements from Laplace distribution\n",
        "arr = np.random.laplace(size=9)\n",
        "print(arr)"
      ],
      "execution_count": null,
      "outputs": [
        {
          "output_type": "stream",
          "text": [
            "[-0.79552275 -3.9455366   0.13388805 -0.7773208  -0.55997533  0.18159928\n",
            "  1.48600678  1.81289792 -0.92574282]\n"
          ],
          "name": "stdout"
        }
      ]
    },
    {
      "cell_type": "code",
      "metadata": {
        "colab": {
          "base_uri": "https://localhost:8080/"
        },
        "id": "MEpgqmRDwmBB",
        "outputId": "9d9061fe-fafe-4661-e4e3-71eb2bb047e3"
      },
      "source": [
        "#Return a Matrix of random values from a uniform distribution\n",
        "arr = np.random.uniform(size=(3, 4))\n",
        "print(arr)"
      ],
      "execution_count": null,
      "outputs": [
        {
          "output_type": "stream",
          "text": [
            "[[0.61146543 0.85740707 0.53938634 0.24400217]\n",
            " [0.28263958 0.44472862 0.26666387 0.20077295]\n",
            " [0.15893697 0.88091152 0.80495538 0.71750016]]\n"
          ],
          "name": "stdout"
        }
      ]
    },
    {
      "cell_type": "code",
      "metadata": {
        "colab": {
          "base_uri": "https://localhost:8080/"
        },
        "id": "bbXpr7V8wmJ9",
        "outputId": "f4ff590f-1233-4d8e-f1c2-b5d9f48b2880"
      },
      "source": [
        "#Return a Matrix of random values from a Gaussian distribution\n",
        "arr = np.random.normal(size=(3, 4))\n",
        "print(arr)"
      ],
      "execution_count": null,
      "outputs": [
        {
          "output_type": "stream",
          "text": [
            "[[-1.04504656  0.5350823   0.71382957  1.2596136 ]\n",
            " [ 0.41270976 -0.02757823  0.82276138  0.29014767]\n",
            " [ 0.21492593  1.1656507   0.58168732 -0.66140308]]\n"
          ],
          "name": "stdout"
        }
      ]
    },
    {
      "cell_type": "code",
      "metadata": {
        "colab": {
          "base_uri": "https://localhost:8080/"
        },
        "id": "m275XIGowmTl",
        "outputId": "58925ab2-a40d-4616-c4d9-b384495e81d8"
      },
      "source": [
        "#How to get the indices of the sorted array using NumPy in Python?\n",
        "arr = np.array([1, 2, 5, 4, 3])\n",
        "indices = np.argsort(arr)\n",
        "print(indices)"
      ],
      "execution_count": null,
      "outputs": [
        {
          "output_type": "stream",
          "text": [
            "[0 1 4 3 2]\n"
          ],
          "name": "stdout"
        }
      ]
    },
    {
      "cell_type": "code",
      "metadata": {
        "colab": {
          "base_uri": "https://localhost:8080/"
        },
        "id": "-M0TalsAwmdE",
        "outputId": "f3f0b0f4-4a62-4b5f-e238-b40473c88ecf"
      },
      "source": [
        "#Finding the k smallest values of a NumPy array\n",
        "arr = np.array([1, 9, 21, 3, 1, 2, 0, 7, 5, 23, 9])\n",
        "k = 4\n",
        "\n",
        "arr = np.sort(arr)\n",
        "print(arr[:k])"
      ],
      "execution_count": null,
      "outputs": [
        {
          "output_type": "stream",
          "text": [
            "[0 1 1 2]\n"
          ],
          "name": "stdout"
        }
      ]
    },
    {
      "cell_type": "code",
      "metadata": {
        "colab": {
          "base_uri": "https://localhost:8080/"
        },
        "id": "bGnNuYi-wobH",
        "outputId": "f11ea402-73be-411e-ddad-f4f8caea1b52"
      },
      "source": [
        "#How to get the n-largest values of an array using NumPy?\n",
        "arr = np.array([1, 9, 21, 3, 1, 2, 0, 7, 5, 23, 9])\n",
        "k = 4\n",
        "\n",
        "arr = np.sort(arr)\n",
        "print(arr[-k:])"
      ],
      "execution_count": null,
      "outputs": [
        {
          "output_type": "stream",
          "text": [
            "[ 9  9 21 23]\n"
          ],
          "name": "stdout"
        }
      ]
    },
    {
      "cell_type": "code",
      "metadata": {
        "colab": {
          "base_uri": "https://localhost:8080/"
        },
        "id": "qthuEJnRwokI",
        "outputId": "86abbbb4-d9f9-4055-b5d3-1d73a30bca49"
      },
      "source": [
        "#Sort the values in a matrix\n",
        "arr = np.array([1, 3, 2, 5, 5, 4, 8, 7, 9]).reshape(3, 3)\n",
        "print(arr)\n",
        "\n",
        "arr.sort()\n",
        "print(arr)"
      ],
      "execution_count": null,
      "outputs": [
        {
          "output_type": "stream",
          "text": [
            "[[1 3 2]\n",
            " [5 5 4]\n",
            " [8 7 9]]\n",
            "[[1 2 3]\n",
            " [4 5 5]\n",
            " [7 8 9]]\n"
          ],
          "name": "stdout"
        }
      ]
    },
    {
      "cell_type": "code",
      "metadata": {
        "colab": {
          "base_uri": "https://localhost:8080/"
        },
        "id": "ZSkufzeIwotN",
        "outputId": "9f52e25e-0c6b-4e0a-b644-7ebe3e9c5d46"
      },
      "source": [
        "#Filter out integers from float numpy array\n",
        "arr = np.array([1.0, 1.1, 1.2, 1.4, 9.0, 3.0, 0.2, 0.0, -1.0])\n",
        "arr = arr[arr != arr.astype(int)]\n",
        "print(arr)"
      ],
      "execution_count": null,
      "outputs": [
        {
          "output_type": "stream",
          "text": [
            "[1.1 1.2 1.4 0.2]\n"
          ],
          "name": "stdout"
        }
      ]
    },
    {
      "cell_type": "code",
      "metadata": {
        "colab": {
          "base_uri": "https://localhost:8080/"
        },
        "id": "5pL1T20Wwo2R",
        "outputId": "6e3fd346-d9ab-47ac-9df5-1d67f060158e"
      },
      "source": [
        "#Find the indices into a sorted array\n",
        "arr = np.array([1, 2, 5, 4, 3]) # I thought that this question was similar to one that I already answered, so I just repeated the code\n",
        "indices = np.argsort(arr)\n",
        "print(indices)"
      ],
      "execution_count": null,
      "outputs": [
        {
          "output_type": "stream",
          "text": [
            "[0 1 4 3 2]\n"
          ],
          "name": "stdout"
        }
      ]
    },
    {
      "cell_type": "code",
      "metadata": {
        "colab": {
          "base_uri": "https://localhost:8080/"
        },
        "id": "Wm14HYECwo_7",
        "outputId": "fe172696-36e6-4378-d4f6-c80728c83d79"
      },
      "source": [
        "#How to get element-wise true division of an array using Numpy?\n",
        "arr = np.arange(9)\n",
        "print(arr)\n",
        "\n",
        "print(np.true_divide(arr, 2))"
      ],
      "execution_count": null,
      "outputs": [
        {
          "output_type": "stream",
          "text": [
            "[0 1 2 3 4 5 6 7 8]\n",
            "[0.  0.5 1.  1.5 2.  2.5 3.  3.5 4. ]\n"
          ],
          "name": "stdout"
        }
      ]
    },
    {
      "cell_type": "code",
      "metadata": {
        "colab": {
          "base_uri": "https://localhost:8080/"
        },
        "id": "pxqu_eVTwpJv",
        "outputId": "5fbab580-d220-4482-8123-9bdfc8486b0d"
      },
      "source": [
        "#How to calculate the element-wise absolute value of NumPy array?\n",
        "arr = np.array([1, -1, 2, -3, -5, 4, 0, -10, 2])\n",
        "print(arr)\n",
        "\n",
        "print(np.absolute(arr))"
      ],
      "execution_count": null,
      "outputs": [
        {
          "output_type": "stream",
          "text": [
            "[  1  -1   2  -3  -5   4   0 -10   2]\n",
            "[ 1  1  2  3  5  4  0 10  2]\n"
          ],
          "name": "stdout"
        }
      ]
    },
    {
      "cell_type": "code",
      "metadata": {
        "colab": {
          "base_uri": "https://localhost:8080/"
        },
        "id": "qRvLYSz2wpSl",
        "outputId": "d716a706-1ab7-414b-cc6a-da976c184359"
      },
      "source": [
        "#Compute the negative of the NumPy array\n",
        "arr = np.array([1, -1, 2, -3, -5, 4, 0, -10, 2])\n",
        "print(arr)\n",
        "\n",
        "print(np.negative(arr))"
      ],
      "execution_count": null,
      "outputs": [
        {
          "output_type": "stream",
          "text": [
            "[  1  -1   2  -3  -5   4   0 -10   2]\n",
            "[-1  1 -2  3  5 -4  0 10 -2]\n"
          ],
          "name": "stdout"
        }
      ]
    },
    {
      "cell_type": "code",
      "metadata": {
        "colab": {
          "base_uri": "https://localhost:8080/"
        },
        "id": "PiFzbXA5wpcE",
        "outputId": "9fee740c-3481-49d0-c63c-e9fb9c9ff158"
      },
      "source": [
        "#Multiply 2d numpy array corresponding to 1d array\n",
        "arr_1 = np.array([1, -1, 2, -3, -5, 4, 0, -10, 2]).reshape(3, 3)\n",
        "arr_2 = np.array([0, 2, 3])\n",
        "print(arr_1)\n",
        "\n",
        "print(arr_1 * arr_2[:, np.newaxis])"
      ],
      "execution_count": null,
      "outputs": [
        {
          "output_type": "stream",
          "text": [
            "[[  1  -1   2]\n",
            " [ -3  -5   4]\n",
            " [  0 -10   2]]\n",
            "[[  0   0   0]\n",
            " [ -6 -10   8]\n",
            " [  0 -30   6]]\n"
          ],
          "name": "stdout"
        }
      ]
    },
    {
      "cell_type": "code",
      "metadata": {
        "colab": {
          "base_uri": "https://localhost:8080/"
        },
        "id": "vrUeCBxUwplJ",
        "outputId": "a592a934-fd39-4a38-b3c2-0fd4b560854c"
      },
      "source": [
        "#Computes the inner product of two arrays\n",
        "arr_1 = np.array([1, 2, 3])\n",
        "arr_2 = np.array([4, 5, 6])\n",
        "\n",
        "print(np.inner(arr_1, arr_2))"
      ],
      "execution_count": null,
      "outputs": [
        {
          "output_type": "stream",
          "text": [
            "32\n"
          ],
          "name": "stdout"
        }
      ]
    },
    {
      "cell_type": "code",
      "metadata": {
        "colab": {
          "base_uri": "https://localhost:8080/"
        },
        "id": "RreJlHvUwpuy",
        "outputId": "6a18af0d-41d5-4076-bd6c-167243179df4"
      },
      "source": [
        "#Compute the nth percentile of the NumPy array\n",
        "arr = np.array([1, 2, 3])\n",
        "print(np.percentile(arr, 25))"
      ],
      "execution_count": null,
      "outputs": [
        {
          "output_type": "stream",
          "text": [
            "1.5\n"
          ],
          "name": "stdout"
        }
      ]
    },
    {
      "cell_type": "code",
      "metadata": {
        "colab": {
          "base_uri": "https://localhost:8080/"
        },
        "id": "PA7vN0XLwp5N",
        "outputId": "b76471c9-5122-4c79-835b-1e6d680b1a16"
      },
      "source": [
        "#Calculate the n-th order discrete difference along the given axis\n",
        "arr = np.array([1, 2, 3, 8, 1, 0, 2])\n",
        "print(np.diff(arr))"
      ],
      "execution_count": null,
      "outputs": [
        {
          "output_type": "stream",
          "text": [
            "[ 1  1  5 -7 -1  2]\n"
          ],
          "name": "stdout"
        }
      ]
    },
    {
      "cell_type": "code",
      "metadata": {
        "colab": {
          "base_uri": "https://localhost:8080/"
        },
        "id": "bMnoHc7GwqDQ",
        "outputId": "b59eff26-850c-40e1-fbfc-39e5cbd6fe61"
      },
      "source": [
        "#Calculate the sum of all columns in a 2D NumPy array\n",
        "arr = np.arange(9).reshape(3, 3)\n",
        "print(arr)\n",
        "print(np.sum(arr, axis=0))"
      ],
      "execution_count": null,
      "outputs": [
        {
          "output_type": "stream",
          "text": [
            "[[0 1 2]\n",
            " [3 4 5]\n",
            " [6 7 8]]\n",
            "[ 9 12 15]\n"
          ],
          "name": "stdout"
        }
      ]
    },
    {
      "cell_type": "code",
      "metadata": {
        "colab": {
          "base_uri": "https://localhost:8080/"
        },
        "id": "0giSsE5qwqMz",
        "outputId": "415c9eba-5bf2-455a-b73c-415d6d459d91"
      },
      "source": [
        "#Calculate average values of two given NumPy arrays\n",
        "arr_1 = np.array([1, 2, 3])\n",
        "arr_2 = np.array([4, 5, 6])\n",
        "\n",
        "print((arr_1 + arr_2) / 2)"
      ],
      "execution_count": null,
      "outputs": [
        {
          "output_type": "stream",
          "text": [
            "[2.5 3.5 4.5]\n"
          ],
          "name": "stdout"
        }
      ]
    },
    {
      "cell_type": "code",
      "metadata": {
        "id": "O8LKLo4wwqXd"
      },
      "source": [
        "#How to compute numerical negative value for all elements in a given NumPy array?\n",
        "arr = np.array([1, -1, 2, -3, -5, 4, 0, -10, 2]) # similar to a question already answered\n",
        "print(arr)\n",
        "\n",
        "print(np.negative(arr))"
      ],
      "execution_count": null,
      "outputs": []
    },
    {
      "cell_type": "code",
      "metadata": {
        "colab": {
          "base_uri": "https://localhost:8080/"
        },
        "id": "LvQltihnwqhB",
        "outputId": "69331920-dd35-4f30-bef6-94a0c3c60658"
      },
      "source": [
        "#How to get the floor, ceiling and truncated values of the elements of a numpy array?\n",
        "arr = np.array([1.0, 2.2, -9.3, -1.5, -4.0, 3.7])\n",
        "print(arr)\n",
        "\n",
        "print(np.floor(arr)) # floor\n",
        "\n",
        "print(np.ceil(arr)) # ceil\n",
        "\n",
        "print(np.trunc(arr)) # trunc\n",
        "  "
      ],
      "execution_count": null,
      "outputs": [
        {
          "output_type": "stream",
          "text": [
            "[ 1.   2.2 -9.3 -1.5 -4.   3.7]\n",
            "[  1.   2. -10.  -2.  -4.   3.]\n",
            "[ 1.  3. -9. -1. -4.  4.]\n",
            "[ 1.  2. -9. -1. -4.  3.]\n"
          ],
          "name": "stdout"
        }
      ]
    },
    {
      "cell_type": "code",
      "metadata": {
        "colab": {
          "base_uri": "https://localhost:8080/"
        },
        "id": "ZN75DOvxwqrP",
        "outputId": "e5bf2d8d-c6a2-463f-f22d-d4da5ca5b5f6"
      },
      "source": [
        "#How to round elements of the NumPy array to the nearest integer?\n",
        "arr = np.array([1.0, 2.2, -9.3, -1.5, -4.0, 3.7])\n",
        "print(arr)\n",
        "\n",
        "print(np.rint(arr))"
      ],
      "execution_count": null,
      "outputs": [
        {
          "output_type": "stream",
          "text": [
            "[ 1.   2.2 -9.3 -1.5 -4.   3.7]\n",
            "[ 1.  2. -9. -2. -4.  4.]\n"
          ],
          "name": "stdout"
        }
      ]
    },
    {
      "cell_type": "code",
      "metadata": {
        "colab": {
          "base_uri": "https://localhost:8080/"
        },
        "id": "S3K7vFiJwq1m",
        "outputId": "86da8df8-a112-4108-cda6-53135093ba45"
      },
      "source": [
        "#Find the round off the values of the given matrix\n",
        "arr = np.array([[1.2, 1.0, 3.2, -1.1], [-2.9, 1.9, 1.4, 3.0]])\n",
        "print(arr.round())"
      ],
      "execution_count": null,
      "outputs": [
        {
          "output_type": "stream",
          "text": [
            "[[ 1.  1.  3. -1.]\n",
            " [-3.  2.  1.  3.]]\n"
          ],
          "name": "stdout"
        }
      ]
    },
    {
      "cell_type": "code",
      "metadata": {
        "colab": {
          "base_uri": "https://localhost:8080/"
        },
        "id": "ykhBnzpUwrAD",
        "outputId": "6b26c410-42de-4ec4-bfde-acab2beeaee7"
      },
      "source": [
        "#Determine the positive square-root of an array\n",
        "arr = np.arange(10)\n",
        "print(arr)\n",
        "print(np.sqrt(arr))"
      ],
      "execution_count": null,
      "outputs": [
        {
          "output_type": "stream",
          "text": [
            "[0 1 2 3 4 5 6 7 8 9]\n",
            "[0.         1.         1.41421356 1.73205081 2.         2.23606798\n",
            " 2.44948974 2.64575131 2.82842712 3.        ]\n"
          ],
          "name": "stdout"
        }
      ]
    },
    {
      "cell_type": "code",
      "metadata": {
        "colab": {
          "base_uri": "https://localhost:8080/"
        },
        "id": "b8pm6eAxwrKl",
        "outputId": "a5f922df-b37e-4f48-8b7c-ce062f9eaf1e"
      },
      "source": [
        "#Evaluate Einstein’s summation convention of two multidimensional NumPy arrays\n",
        "arr_1 = np.array([1, 2])\n",
        "arr_2 = np.array([3, 4])\n",
        "print(np.einsum(\"n, n\", arr_1, arr_2))"
      ],
      "execution_count": null,
      "outputs": [
        {
          "output_type": "stream",
          "text": [
            "11\n"
          ],
          "name": "stdout"
        }
      ]
    },
    {
      "cell_type": "code",
      "metadata": {
        "colab": {
          "base_uri": "https://localhost:8080/"
        },
        "id": "WYPygjFjwrUV",
        "outputId": "b742bb64-459f-4ad4-9c70-5dcbe20d8e42"
      },
      "source": [
        "#Compute the median of the flattened NumPy array\n",
        "arr = np.array([1, 4, 2, 6, 7, 4, 2, 1, 90])\n",
        "print(np.median(arr))"
      ],
      "execution_count": null,
      "outputs": [
        {
          "output_type": "stream",
          "text": [
            "4.0\n"
          ],
          "name": "stdout"
        }
      ]
    },
    {
      "cell_type": "code",
      "metadata": {
        "colab": {
          "base_uri": "https://localhost:8080/"
        },
        "id": "27QEuJzN5UsL",
        "outputId": "5275a284-cb88-46ea-cf39-45c14c7cfae1"
      },
      "source": [
        "#Find Mean of a List of Numpy Array\n",
        "arr_list = [np.array([1, 2, 7]), np.array([4, 3, 6]), np.array([0, 32, 9])]\n",
        "\n",
        "for i in range(len(arr_list)):\n",
        "  print(np.mean(arr_list[i]))"
      ],
      "execution_count": null,
      "outputs": [
        {
          "output_type": "stream",
          "text": [
            "3.3333333333333335\n",
            "4.333333333333333\n",
            "13.666666666666666\n"
          ],
          "name": "stdout"
        }
      ]
    },
    {
      "cell_type": "code",
      "metadata": {
        "colab": {
          "base_uri": "https://localhost:8080/"
        },
        "id": "YZil1NIa5U14",
        "outputId": "273c337b-db37-40c7-e7ab-0f1e18fc408d"
      },
      "source": [
        "#Calculate the mean of array ignoring the NaN value\n",
        "arr = np.array([10, 2, np.nan])\n",
        "print(np.nanmean(arr))"
      ],
      "execution_count": null,
      "outputs": [
        {
          "output_type": "stream",
          "text": [
            "6.0\n"
          ],
          "name": "stdout"
        }
      ]
    },
    {
      "cell_type": "code",
      "metadata": {
        "colab": {
          "base_uri": "https://localhost:8080/"
        },
        "id": "1gvBoC2Y5U_H",
        "outputId": "53468a26-55bf-47c4-ffd4-4857c05f06dc"
      },
      "source": [
        "#Get the mean value from given matrix\n",
        "arr = np.array([[1, 2, 3], [4, 5, 6]])\n",
        "print(arr.mean())"
      ],
      "execution_count": null,
      "outputs": [
        {
          "output_type": "stream",
          "text": [
            "3.5\n"
          ],
          "name": "stdout"
        }
      ]
    },
    {
      "cell_type": "code",
      "metadata": {
        "colab": {
          "base_uri": "https://localhost:8080/"
        },
        "id": "Idw1rNEt5VIa",
        "outputId": "a56a76c3-decf-4658-d2b3-d7d1c6f53936"
      },
      "source": [
        "#Compute the variance of the NumPy array\n",
        "arr = np.array([1, 5, 3, 8, 4])\n",
        "print(np.var(arr))"
      ],
      "execution_count": null,
      "outputs": [
        {
          "output_type": "stream",
          "text": [
            "5.360000000000001\n"
          ],
          "name": "stdout"
        }
      ]
    },
    {
      "cell_type": "code",
      "metadata": {
        "colab": {
          "base_uri": "https://localhost:8080/"
        },
        "id": "CcnbfdRZ5VRk",
        "outputId": "b79172cd-666b-4a21-f65a-87fa22e1becf"
      },
      "source": [
        "#Compute the standard deviation of the NumPy array\n",
        "arr = np.array([1, 5, 3, 8, 4])\n",
        "print(np.std(arr))"
      ],
      "execution_count": null,
      "outputs": [
        {
          "output_type": "stream",
          "text": [
            "2.3151673805580453\n"
          ],
          "name": "stdout"
        }
      ]
    },
    {
      "cell_type": "code",
      "metadata": {
        "colab": {
          "base_uri": "https://localhost:8080/"
        },
        "id": "CdFjXsMi5VbH",
        "outputId": "a84c6246-4751-408f-8747-9bcd679f1338"
      },
      "source": [
        "#Compute pearson product-moment correlation coefficients of two given NumPy arrays\n",
        "arr_1 = np.array([1, 5, 2])\n",
        "arr_2 = np.array([3, 2, 9])\n",
        "print(np.corrcoef(arr_1, arr_2))"
      ],
      "execution_count": null,
      "outputs": [
        {
          "output_type": "stream",
          "text": [
            "[[ 1.         -0.40180719]\n",
            " [-0.40180719  1.        ]]\n"
          ],
          "name": "stdout"
        }
      ]
    },
    {
      "cell_type": "code",
      "metadata": {
        "colab": {
          "base_uri": "https://localhost:8080/"
        },
        "id": "VlZSjous5Vkr",
        "outputId": "349b9fe9-897a-4258-853c-37c097defef5"
      },
      "source": [
        "#Calculate the mean across dimension in a 2D NumPy array\n",
        "arr = np.array([[1, 2, 3], [4, 5, 6]])\n",
        "print(arr)\n",
        "\n",
        "print(arr.mean(axis=1)) # getting the mean of the rows\n",
        "print(arr.mean(axis=0)) # getting the mean of the columns"
      ],
      "execution_count": null,
      "outputs": [
        {
          "output_type": "stream",
          "text": [
            "[[1 2 3]\n",
            " [4 5 6]]\n",
            "[2. 5.]\n",
            "[2.5 3.5 4.5]\n"
          ],
          "name": "stdout"
        }
      ]
    },
    {
      "cell_type": "code",
      "metadata": {
        "colab": {
          "base_uri": "https://localhost:8080/"
        },
        "id": "kDPJamIp5Vt3",
        "outputId": "3740a048-7839-4185-c106-5dc891fcc073"
      },
      "source": [
        "#Calculate the average, variance and standard deviation in Python using NumPy\n",
        "arr = np.array([1, 4, 2, 7, 8, 9])\n",
        "\n",
        "print(np.average(arr)) # printing average\n",
        "print(np.var(arr)) # printing variance\n",
        "print(np.std(arr)) # printing standard deviation"
      ],
      "execution_count": null,
      "outputs": [
        {
          "output_type": "stream",
          "text": [
            "5.166666666666667\n",
            "9.13888888888889\n",
            "3.0230595245361758\n"
          ],
          "name": "stdout"
        }
      ]
    },
    {
      "cell_type": "code",
      "metadata": {
        "colab": {
          "base_uri": "https://localhost:8080/"
        },
        "id": "uYlj4ozQ5V97",
        "outputId": "43ac5f57-d92b-481c-fb58-4709e37e8680"
      },
      "source": [
        "#Describe a NumPy Array in Python\n",
        "arr = np.array([1, 4, 2, 7, 8, 9])\n",
        "\n",
        "arr_mean = np.mean(arr)\n",
        "arr_median = np.median(arr)\n",
        "arr_varience = np.var(arr)\n",
        "arr_sd = np.std(arr)\n",
        "  \n",
        "print(\"Array Description:\")\n",
        "print(\"Array: \", arr)\n",
        "print(\"Mean: \", arr_mean)\n",
        "print(\"Median: \", arr_median)\n",
        "print(\"Varience: \", arr_varience)\n",
        "print(\"Standard Deviation: \", arr_sd)"
      ],
      "execution_count": null,
      "outputs": [
        {
          "output_type": "stream",
          "text": [
            "Array Description:\n",
            "Array:  [1 4 2 7 8 9]\n",
            "Mean:  5.166666666666667\n",
            "Median:  5.5\n",
            "Varience:  9.13888888888889\n",
            "Standard Deviation:  3.0230595245361758\n"
          ],
          "name": "stdout"
        }
      ]
    },
    {
      "cell_type": "code",
      "metadata": {
        "colab": {
          "base_uri": "https://localhost:8080/"
        },
        "id": "JrtTFRKQ5WHt",
        "outputId": "d475c926-fdf2-409d-a07e-70078601141c"
      },
      "source": [
        "#Define a polynomial function\n",
        "p = np.poly1d([2, 2, 1])\n",
        "print(p)"
      ],
      "execution_count": null,
      "outputs": [
        {
          "output_type": "stream",
          "text": [
            "   2\n",
            "2 x + 2 x + 1\n"
          ],
          "name": "stdout"
        }
      ]
    },
    {
      "cell_type": "code",
      "metadata": {
        "colab": {
          "base_uri": "https://localhost:8080/"
        },
        "id": "tqM2ADx15WRL",
        "outputId": "e7d0e300-d70b-4e49-fa51-88defeb47673"
      },
      "source": [
        "#How to add one polynomial to another using NumPy in Python?\n",
        "p1 = (1,2,3)\n",
        "p2 = (4,5,6)\n",
        "\n",
        "print(np.polynomial.polynomial.polyadd(p1,p2))"
      ],
      "execution_count": null,
      "outputs": [
        {
          "output_type": "stream",
          "text": [
            "[5. 7. 9.]\n"
          ],
          "name": "stdout"
        }
      ]
    },
    {
      "cell_type": "code",
      "metadata": {
        "colab": {
          "base_uri": "https://localhost:8080/"
        },
        "id": "8YI9wuGo5WbM",
        "outputId": "770b599c-10e7-4a1a-c6fe-f21394b40125"
      },
      "source": [
        "#How to subtract one polynomial to another using NumPy in Python?\n",
        "p1 = (1,2,3)\n",
        "p2 = (4,5,6)\n",
        "\n",
        "print(np.polynomial.polynomial.polysub(p1,p2))"
      ],
      "execution_count": null,
      "outputs": [
        {
          "output_type": "stream",
          "text": [
            "[-3. -3. -3.]\n"
          ],
          "name": "stdout"
        }
      ]
    },
    {
      "cell_type": "code",
      "metadata": {
        "colab": {
          "base_uri": "https://localhost:8080/"
        },
        "id": "KccOEJmY5Wkb",
        "outputId": "6a29379d-a92d-45c9-9f44-bb20217b83ad"
      },
      "source": [
        "#How to multiply a polynomial to another using NumPy in Python?\n",
        "p1 = (1,2,3)\n",
        "p2 = (4,5,6)\n",
        "\n",
        "print(np.polynomial.polynomial.polymul(p1,p2))"
      ],
      "execution_count": null,
      "outputs": [
        {
          "output_type": "stream",
          "text": [
            "[ 4. 13. 28. 27. 18.]\n"
          ],
          "name": "stdout"
        }
      ]
    },
    {
      "cell_type": "code",
      "metadata": {
        "colab": {
          "base_uri": "https://localhost:8080/"
        },
        "id": "xOJQpVst5Wt_",
        "outputId": "07a1c473-6786-4ecb-f84d-6db6f52ec3cd"
      },
      "source": [
        "#How to divide a polynomial to another using NumPy in Python?\n",
        "p1 = (1,2,3)\n",
        "p2 = (4,5,6)\n",
        "\n",
        "print(np.polynomial.polynomial.polydiv(p1,p2))"
      ],
      "execution_count": null,
      "outputs": [
        {
          "output_type": "stream",
          "text": [
            "(array([0.5]), array([-1. , -0.5]))\n"
          ],
          "name": "stdout"
        }
      ]
    },
    {
      "cell_type": "code",
      "metadata": {
        "colab": {
          "base_uri": "https://localhost:8080/"
        },
        "id": "SAo0RzuF5W4f",
        "outputId": "db5ab9c5-1a25-4434-95db-e2900e1879ee"
      },
      "source": [
        "#Find the roots of the polynomials using NumPy\n",
        "p = [2, 1, 4]\n",
        "print(np.roots(p))"
      ],
      "execution_count": null,
      "outputs": [
        {
          "output_type": "stream",
          "text": [
            "[-0.25+1.39194109j -0.25-1.39194109j]\n"
          ],
          "name": "stdout"
        }
      ]
    },
    {
      "cell_type": "code",
      "metadata": {
        "colab": {
          "base_uri": "https://localhost:8080/"
        },
        "id": "togonwrf5XrA",
        "outputId": "92304d10-c5dc-41b8-ed2f-ea452f9aa21d"
      },
      "source": [
        "#Evaluate a 2-D polynomial series on the Cartesian product\n",
        "arr = np.arange(6).reshape(2, 3)\n",
        "print(arr)\n",
        "\n",
        "print(np.polynomial.polynomial.polygrid2d(3, 4, arr))"
      ],
      "execution_count": null,
      "outputs": [
        {
          "output_type": "stream",
          "text": [
            "[[0 1 2]\n",
            " [3 4 5]]\n",
            "333.0\n"
          ],
          "name": "stdout"
        }
      ]
    },
    {
      "cell_type": "code",
      "metadata": {
        "colab": {
          "base_uri": "https://localhost:8080/"
        },
        "id": "iStwKCJm5X0l",
        "outputId": "990b3b15-26ed-4fec-d93c-b0c7cd5e8162"
      },
      "source": [
        "#Evaluate a 3-D polynomial series on the Cartesian product\n",
        "arr = np.arange(9).reshape(3, 3)\n",
        "print(arr)\n",
        "\n",
        "print(np.polynomial.polynomial.polygrid3d([4, 3], [7, 8], [1, 6], arr))"
      ],
      "execution_count": null,
      "outputs": [
        {
          "output_type": "stream",
          "text": [
            "[[0 1 2]\n",
            " [3 4 5]\n",
            " [6 7 8]]\n",
            "[[13317. 38097.]\n",
            " [17107. 48942.]]\n"
          ],
          "name": "stdout"
        }
      ]
    },
    {
      "cell_type": "code",
      "metadata": {
        "colab": {
          "base_uri": "https://localhost:8080/"
        },
        "id": "c81HnxGq5X-a",
        "outputId": "863cf566-7a7c-4910-d9d4-a34d47a50ac0"
      },
      "source": [
        "#Repeat all the elements of a NumPy array of strings\n",
        "arr = np.array(['Lucas', 'Aquiles', 'Joao'])\n",
        "print(np.char.multiply(arr, 2))"
      ],
      "execution_count": null,
      "outputs": [
        {
          "output_type": "stream",
          "text": [
            "['LucasLucas' 'AquilesAquiles' 'JoaoJoao']\n"
          ],
          "name": "stdout"
        }
      ]
    },
    {
      "cell_type": "code",
      "metadata": {
        "colab": {
          "base_uri": "https://localhost:8080/"
        },
        "id": "KLkXYOCN5YIg",
        "outputId": "01cf99ce-7177-4a8b-df78-43aca02ba4ca"
      },
      "source": [
        "#How to split the element of a given NumPy array with spaces?\n",
        "arr = np.array(['Lucas gosta do time do flamengo'])\n",
        "print(np.char.split(arr, sep=' '))"
      ],
      "execution_count": null,
      "outputs": [
        {
          "output_type": "stream",
          "text": [
            "[list(['Lucas', 'gosta', 'do', 'time', 'do', 'flamengo'])]\n"
          ],
          "name": "stdout"
        }
      ]
    },
    {
      "cell_type": "code",
      "metadata": {
        "colab": {
          "base_uri": "https://localhost:8080/"
        },
        "id": "djMSCP4D5YTM",
        "outputId": "72e76108-7fb9-41c6-b4bf-50d6b1310819"
      },
      "source": [
        "#How to insert a space between characters of all the elements of a given NumPy array?\n",
        "arr = np.array(['Lucas', 'Aquiles', 'Joao'])\n",
        "print(arr)\n",
        "print(np.char.join(' ', arr))"
      ],
      "execution_count": null,
      "outputs": [
        {
          "output_type": "stream",
          "text": [
            "['Lucas' 'Aquiles' 'Joao']\n",
            "['L u c a s' 'A q u i l e s' 'J o a o']\n"
          ],
          "name": "stdout"
        }
      ]
    },
    {
      "cell_type": "code",
      "metadata": {
        "colab": {
          "base_uri": "https://localhost:8080/"
        },
        "id": "r4sZJSiI5Ydp",
        "outputId": "ad67e085-5287-485e-e185-9ba7bd1ad123"
      },
      "source": [
        "#Find the length of each string element in the Numpy array\n",
        "arr = np.array(['Lucas', 'Aquiles', 'Joao'])\n",
        "print(arr)\n",
        "\n",
        "length_checker = np.vectorize(len)\n",
        "print(length_checker(arr))"
      ],
      "execution_count": null,
      "outputs": [
        {
          "output_type": "stream",
          "text": [
            "['Lucas' 'Aquiles' 'Joao']\n",
            "[5 7 4]\n"
          ],
          "name": "stdout"
        }
      ]
    },
    {
      "cell_type": "code",
      "metadata": {
        "colab": {
          "base_uri": "https://localhost:8080/"
        },
        "id": "XwYvm-Il5YoW",
        "outputId": "a64fd5b6-3111-49a3-c5e0-20ee95a07fe3"
      },
      "source": [
        "arr = np.array(['Lucas', 'Aquiles', 'Joao'])\n",
        "print(arr)\n",
        "print(np.char.swapcase(arr))"
      ],
      "execution_count": null,
      "outputs": [
        {
          "output_type": "stream",
          "text": [
            "['Lucas' 'Aquiles' 'Joao']\n",
            "['lUCAS' 'aQUILES' 'jOAO']\n"
          ],
          "name": "stdout"
        }
      ]
    },
    {
      "cell_type": "code",
      "metadata": {
        "colab": {
          "base_uri": "https://localhost:8080/"
        },
        "id": "eSeJUjq95Y0E",
        "outputId": "18f306a3-746f-4800-9c89-9fbddc756bc6"
      },
      "source": [
        "#Change the case to uppercase of elements of an array\n",
        "arr = np.array(['Lucas', 'Aquiles', 'Joao'])\n",
        "print(arr)\n",
        "print(np.char.upper(arr))"
      ],
      "execution_count": null,
      "outputs": [
        {
          "output_type": "stream",
          "text": [
            "['Lucas' 'Aquiles' 'Joao']\n",
            "['LUCAS' 'AQUILES' 'JOAO']\n"
          ],
          "name": "stdout"
        }
      ]
    },
    {
      "cell_type": "code",
      "metadata": {
        "colab": {
          "base_uri": "https://localhost:8080/"
        },
        "id": "O-MVGnsA5Y_f",
        "outputId": "945a16e6-c589-489d-fe39-d210b1a40de9"
      },
      "source": [
        "#Change the case to lowercase of elements of an array\n",
        "arr = np.array(['Lucas', 'Aquiles', 'Joao'])\n",
        "print(arr)\n",
        "print(np.char.lower(arr))"
      ],
      "execution_count": null,
      "outputs": [
        {
          "output_type": "stream",
          "text": [
            "['Lucas' 'Aquiles' 'Joao']\n",
            "['lucas' 'aquiles' 'joao']\n"
          ],
          "name": "stdout"
        }
      ]
    },
    {
      "cell_type": "code",
      "metadata": {
        "colab": {
          "base_uri": "https://localhost:8080/"
        },
        "id": "fZNpz1mt5ZKn",
        "outputId": "9e7f1ea2-144e-46b9-ca9b-0d42fb6d3b41"
      },
      "source": [
        "#Join String by a seperator\n",
        "arr = np.array(['Lucas'])\n",
        "print(arr)\n",
        "print(np.char.join(',', arr))"
      ],
      "execution_count": null,
      "outputs": [
        {
          "output_type": "stream",
          "text": [
            "['Lucas']\n",
            "['L,u,c,a,s']\n"
          ],
          "name": "stdout"
        }
      ]
    },
    {
      "cell_type": "code",
      "metadata": {
        "colab": {
          "base_uri": "https://localhost:8080/"
        },
        "id": "CXPgHlUp5ZVa",
        "outputId": "a35dfa27-b8fa-40b3-b0fa-77764952b677"
      },
      "source": [
        "#Check if two same shaped string arrays one by one\n",
        "arr_1 = np.array(['Lucas'])\n",
        "arr_2 = np.array(['Joao'])\n",
        "arr_3 = np.array(['Lucas'])\n",
        "\n",
        "print(np.char.equal(arr_1, arr_2))\n",
        "print(np.char.equal(arr_1, arr_3))"
      ],
      "execution_count": null,
      "outputs": [
        {
          "output_type": "stream",
          "text": [
            "[False]\n",
            "[ True]\n"
          ],
          "name": "stdout"
        }
      ]
    },
    {
      "cell_type": "code",
      "metadata": {
        "colab": {
          "base_uri": "https://localhost:8080/"
        },
        "id": "8uEp18E95ZhI",
        "outputId": "ffe0fc2b-b915-496c-cf7e-191f51960fd0"
      },
      "source": [
        "#Count the number of substrings in an array\n",
        "arr = np.array(['Lucas', 'asquiles', 'Joao'])\n",
        "print(np.char.count(arr, sub='as'))"
      ],
      "execution_count": null,
      "outputs": [
        {
          "output_type": "stream",
          "text": [
            "[1 1 0]\n"
          ],
          "name": "stdout"
        }
      ]
    },
    {
      "cell_type": "code",
      "metadata": {
        "colab": {
          "base_uri": "https://localhost:8080/"
        },
        "id": "aVRhhJ0Y5Zrv",
        "outputId": "cc669435-f2f9-4ace-cc2e-77112e6c1a44"
      },
      "source": [
        "#Find the lowest index of the substring in an array\n",
        "arr = np.array(['Lucas', 'asquiles', 'Joao'])\n",
        "print(np.char.find(arr, sub='as'))"
      ],
      "execution_count": null,
      "outputs": [
        {
          "output_type": "stream",
          "text": [
            "[ 3  0 -1]\n"
          ],
          "name": "stdout"
        }
      ]
    },
    {
      "cell_type": "code",
      "metadata": {
        "colab": {
          "base_uri": "https://localhost:8080/"
        },
        "id": "3DBVfnBc5Z2p",
        "outputId": "7aa7add8-6595-44ed-b3ea-dc34b8a3b2eb"
      },
      "source": [
        "#Get the boolean array when values end with a particular character\n",
        "arr = np.array(['Lucas', 'Aquiles', 'Joao'])\n",
        "print(np.char.endswith(arr, 's'))"
      ],
      "execution_count": null,
      "outputs": [
        {
          "output_type": "stream",
          "text": [
            "[ True  True False]\n"
          ],
          "name": "stdout"
        }
      ]
    },
    {
      "cell_type": "code",
      "metadata": {
        "id": "WwrmrW3v5aCA"
      },
      "source": [
        "#More Questions on NumPy\n",
        "#I believe that this is a topic"
      ],
      "execution_count": null,
      "outputs": []
    },
    {
      "cell_type": "code",
      "metadata": {
        "id": "7byS-OBUJbKg",
        "colab": {
          "base_uri": "https://localhost:8080/"
        },
        "outputId": "f99464d5-5ced-446f-a832-7af6717ed96b"
      },
      "source": [
        "#Different ways to convert a Python dictionary to a NumPy array\n",
        "dict = {\"a\": 1, \"b\": 2, \"c\": 3, \"d\": 4}\n",
        "dict_list = list(dict.items())\n",
        "arr = np.array(dict_list)\n",
        "print(arr)"
      ],
      "execution_count": null,
      "outputs": [
        {
          "output_type": "stream",
          "text": [
            "[['a' '1']\n",
            " ['b' '2']\n",
            " ['c' '3']\n",
            " ['d' '4']]\n"
          ],
          "name": "stdout"
        }
      ]
    },
    {
      "cell_type": "code",
      "metadata": {
        "colab": {
          "base_uri": "https://localhost:8080/"
        },
        "id": "8nijxR2NEdDH",
        "outputId": "d9fa0346-8f73-4e61-8c66-8aa73d408655"
      },
      "source": [
        "#How to convert a list and tuple into NumPy arrays?\n",
        "# list\n",
        "list = [1, 2, 3]\n",
        "arr = np.asarray(list)\n",
        "print(arr)\n",
        "  \n",
        "# tuple\n",
        "tuple = ([1, 2, 3], [4, 5, 6])\n",
        "arr = np.asarray(tuple)\n",
        "print(arr)"
      ],
      "execution_count": null,
      "outputs": [
        {
          "output_type": "stream",
          "text": [
            "[1 2 3]\n",
            "[[1 2 3]\n",
            " [4 5 6]]\n"
          ],
          "name": "stdout"
        }
      ]
    },
    {
      "cell_type": "code",
      "metadata": {
        "colab": {
          "base_uri": "https://localhost:8080/"
        },
        "id": "SlydrvTuEdKA",
        "outputId": "99f36b8a-873c-4456-99ba-b3b2b6ec3b0d"
      },
      "source": [
        "#Ways to convert array of strings to array of floats\n",
        "str_arr = np.array([\"1.1\", \"2.2\", \"3.3\"])\n",
        "print(str_arr)\n",
        "\n",
        "float_arr = str_arr.astype(np.float)\n",
        "print(float_arr)"
      ],
      "execution_count": null,
      "outputs": [
        {
          "output_type": "stream",
          "text": [
            "['1.1' '2.2' '3.3']\n",
            "[1.1 2.2 3.3]\n"
          ],
          "name": "stdout"
        }
      ]
    },
    {
      "cell_type": "code",
      "metadata": {
        "colab": {
          "base_uri": "https://localhost:8080/"
        },
        "id": "PyaNcPPHEdQi",
        "outputId": "810d7eb4-337b-4d64-e83a-f005546606f7"
      },
      "source": [
        "#Convert a NumPy array into a csv file\n",
        "arr = np.arange(9).reshape(3, 3)\n",
        "print(arr)\n",
        "arr.tofile('data.csv', sep = ',') # saving an array into a csv file"
      ],
      "execution_count": null,
      "outputs": [
        {
          "output_type": "stream",
          "text": [
            "[[0 1 2]\n",
            " [3 4 5]\n",
            " [6 7 8]]\n"
          ],
          "name": "stdout"
        }
      ]
    },
    {
      "cell_type": "code",
      "metadata": {
        "id": "uROgI1Z5EdXJ",
        "colab": {
          "base_uri": "https://localhost:8080/"
        },
        "outputId": "8a4cd2b0-0132-4c5a-b68f-0871c821cd49"
      },
      "source": [
        "#How to Convert an image to NumPy array and save it to CSV file using Python?\n",
        "from PIL import Image\n",
        "\n",
        "img = Image.open('./github.png')\n",
        "img_arr = np.asarray(img)\n",
        "print(img_arr)"
      ],
      "execution_count": null,
      "outputs": [
        {
          "output_type": "stream",
          "text": [
            "[[[255 255 255]\n",
            "  [255 255 255]\n",
            "  [255 255 255]\n",
            "  ...\n",
            "  [255 255 255]\n",
            "  [255 255 255]\n",
            "  [255 255 255]]\n",
            "\n",
            " [[255 255 255]\n",
            "  [255 255 255]\n",
            "  [255 255 255]\n",
            "  ...\n",
            "  [255 255 255]\n",
            "  [255 255 255]\n",
            "  [255 255 255]]\n",
            "\n",
            " [[255 255 255]\n",
            "  [255 255 255]\n",
            "  [255 255 255]\n",
            "  ...\n",
            "  [255 255 255]\n",
            "  [255 255 255]\n",
            "  [255 255 255]]\n",
            "\n",
            " ...\n",
            "\n",
            " [[255 255 255]\n",
            "  [255 255 255]\n",
            "  [255 255 255]\n",
            "  ...\n",
            "  [255 255 255]\n",
            "  [255 255 255]\n",
            "  [255 255 255]]\n",
            "\n",
            " [[255 255 255]\n",
            "  [255 255 255]\n",
            "  [255 255 255]\n",
            "  ...\n",
            "  [255 255 255]\n",
            "  [255 255 255]\n",
            "  [255 255 255]]\n",
            "\n",
            " [[255 255 255]\n",
            "  [255 255 255]\n",
            "  [255 255 255]\n",
            "  ...\n",
            "  [255 255 255]\n",
            "  [255 255 255]\n",
            "  [255 255 255]]]\n"
          ],
          "name": "stdout"
        }
      ]
    },
    {
      "cell_type": "code",
      "metadata": {
        "id": "RBSBV1NAEddl",
        "colab": {
          "base_uri": "https://localhost:8080/"
        },
        "outputId": "623408c0-159b-43d1-d131-8fafae54012f"
      },
      "source": [
        "#How to save a NumPy array to a text file?\n",
        "arr = np.array([1, 2, 3])\n",
        "print(arr)\n",
        " \n",
        "np.savetxt(\"file.txt\", arr)\n",
        " \n",
        "txt_file = np.loadtxt('file.txt')\n",
        "print(txt_file)"
      ],
      "execution_count": null,
      "outputs": [
        {
          "output_type": "stream",
          "text": [
            "[1 2 3]\n",
            "[1. 2. 3.]\n"
          ],
          "name": "stdout"
        }
      ]
    },
    {
      "cell_type": "code",
      "metadata": {
        "id": "mLgY4kshEdjU",
        "colab": {
          "base_uri": "https://localhost:8080/"
        },
        "outputId": "68bbfbbb-134e-4365-ebb5-5757e6becbf1"
      },
      "source": [
        "#Load data from a text file\n",
        "txt_file = np.loadtxt('file.txt')\n",
        "print(txt_file)"
      ],
      "execution_count": null,
      "outputs": [
        {
          "output_type": "stream",
          "text": [
            "[1. 2. 3.]\n"
          ],
          "name": "stdout"
        }
      ]
    },
    {
      "cell_type": "code",
      "metadata": {
        "id": "PTHvvLRUEdpS",
        "colab": {
          "base_uri": "https://localhost:8080/",
          "height": 295
        },
        "outputId": "396a1ce4-00eb-43d6-c1ec-7bef4e1a4c7a"
      },
      "source": [
        "#Plot line graph from NumPy array\n",
        "import matplotlib.pyplot as plt\n",
        " \n",
        "x = np.arange(10)\n",
        "y = x * 2\n",
        " \n",
        "# plot\n",
        "plt.title(\"Numpy array line graph\")\n",
        "plt.xlabel(\"x-axis\")\n",
        "plt.ylabel(\"y-axis\")\n",
        "plt.plot(x, y)\n",
        "plt.show()"
      ],
      "execution_count": null,
      "outputs": [
        {
          "output_type": "display_data",
          "data": {
            "image/png": "[encoded data removed]",
            "text/plain": [
              "<Figure size 432x288 with 1 Axes>"
            ]
          },
          "metadata": {
            "tags": [],
            "needs_background": "light"
          }
        }
      ]
    },
    {
      "cell_type": "code",
      "metadata": {
        "id": "Drnf72gUEdvP",
        "colab": {
          "base_uri": "https://localhost:8080/"
        },
        "outputId": "077c4c8a-1546-4663-fdfa-b630d757b7b6"
      },
      "source": [
        "#Create Histogram using NumPy\n",
        "arr = np.random.randint(100, size=(100))\n",
        "#print(arr)\n",
        "\n",
        "histogram, bins = np.histogram(arr, bins = [0, 10, 20, 30, 40, 50, 60, 70, 80, 90, 100])\n",
        "  \n",
        "print(histogram)\n",
        "print(bins)\n"
      ],
      "execution_count": null,
      "outputs": [
        {
          "output_type": "stream",
          "text": [
            "[14  6 13  7  9 11 14 11  5 10]\n",
            "[  0  10  20  30  40  50  60  70  80  90 100]\n"
          ],
          "name": "stdout"
        }
      ]
    }
  ]
}